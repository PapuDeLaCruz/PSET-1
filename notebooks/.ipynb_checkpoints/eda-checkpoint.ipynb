{
 "cells": [
  {
   "cell_type": "code",
   "execution_count": 1,
   "metadata": {},
   "outputs": [],
   "source": [
    "import snowflake.connector\n",
    "import pandas as pd\n",
    "import matplotlib.pyplot as plt\n",
    "import seaborn as sns\n",
    "import os"
   ]
  },
  {
   "cell_type": "code",
   "execution_count": 2,
   "metadata": {},
   "outputs": [],
   "source": [
    "#conectandose para importar todas las tablas. Usando varables de entorno guardadas en bashrc\n",
    "usuario = os.getenv('SNOWFLAKE_USER')\n",
    "cuenta = os.getenv('SNOWFLAKE_ACCOUNT')\n",
    "passwd = os.getenv('SNOWFLAKE_PIPELINESERVICE_PASSWORD')\n",
    "\n",
    "conn = snowflake.connector.connect(\n",
    "    user=usuario,\n",
    "    password=passwd,\n",
    "    account=cuenta,\n",
    "    warehouse='COMPUTE_WH',\n",
    "    database='INSTACART_DB',\n",
    "    schema='RAW',\n",
    "    protocol='https'\n",
    "    )\n",
    "#esto no es una funcion pq es mas rapido solo conectarse una vez y de ahi ejecutar todo en lugar de conectarse \n",
    "#multiples veces\n",
    "\n",
    "\n",
    "def snowflake_to_pandas(table, dataframe,cur):\n",
    "\n",
    "    sql = f\"select * from \\\"{table}\\\";\"\n",
    "    cur.execute(sql)\n",
    "    \n",
    "    dfs = []\n",
    "    \n",
    "    for dfa in cur.fetch_pandas_batches():\n",
    "        dfs.append(dfa)\n",
    "    \n",
    "    dataframe = pd.concat(dfs, ignore_index=True)\n",
    "  \n",
    "        \n",
    "    return dataframe"
   ]
  },
  {
   "cell_type": "code",
   "execution_count": 3,
   "metadata": {},
   "outputs": [],
   "source": [
    "#importando las tablas y cerrando la conexion\n",
    "\n",
    "df_aisles = snowflake_to_pandas(\"aisles\", pd.DataFrame(), conn.cursor())\n",
    "df_departments = snowflake_to_pandas(\"departments\", pd.DataFrame(),conn.cursor())\n",
    "df_instacart_orders = snowflake_to_pandas(\"instacart_orders\", pd.DataFrame(),conn.cursor())\n",
    "df_order_products = snowflake_to_pandas(\"order_products\", pd.DataFrame(),conn.cursor())\n",
    "df_products = snowflake_to_pandas(\"products\", pd.DataFrame(),conn.cursor())\n",
    "\n",
    "conn.close()"
   ]
  },
  {
   "cell_type": "code",
   "execution_count": 4,
   "metadata": {},
   "outputs": [],
   "source": [
    "#funcion para obtener las metricas que yo quiero\n",
    "def agg_std(df): \n",
    "    agg_functions = ['mean', 'std', 'min', 'max', 'var', 'median']\n",
    "    \n",
    "    agg_stats = {}\n",
    "    \n",
    "    for column in df.columns:\n",
    "        column_stats = df[column].agg(agg_functions).to_dict()\n",
    "        \n",
    "        # Skewness and Kurtosis\n",
    "        column_stats['skew'] = df[column].skew()\n",
    "        column_stats['kurt'] = df[column].kurt()\n",
    "        \n",
    "        # Mode Handling\n",
    "        mode_values = df[column].mode()\n",
    "        column_stats['mode'] = mode_values.iloc[0] if not mode_values.empty else None\n",
    "        \n",
    "        # Quantiles\n",
    "        quantiles = df[column].quantile([0.25, 0.5, 0.75]).to_dict()\n",
    "        column_stats.update({f'quantile_{int(q*100)}': v for q, v in quantiles.items()})\n",
    "        \n",
    "        agg_stats[column] = column_stats\n",
    "    \n",
    "    agg_stats_df = pd.DataFrame(agg_stats)\n",
    "    \n",
    "    return agg_stats_df\n"
   ]
  },
  {
   "cell_type": "code",
   "execution_count": 5,
   "metadata": {},
   "outputs": [],
   "source": [
    "#Revisar si es que todos los tipos de los datos en cada columna son iguales\n",
    "def check_type(df):\n",
    "    for column in df.columns:\n",
    "        same_type = df[column].apply(type).nunique() == 1\n",
    "        print(f\"All elements in the column '{column}' have the same data type: {same_type}\")"
   ]
  },
  {
   "cell_type": "code",
   "execution_count": 6,
   "metadata": {},
   "outputs": [],
   "source": [
    "#Revisar si hay duplicados en cada columna del df\n",
    "def check_duplicate(df):\n",
    "    for column in df.columns:\n",
    "        duplicate_count = df[column].duplicated().sum()\n",
    "        print(f\"There are {duplicate_count} duplicates in the {column}\")"
   ]
  },
  {
   "cell_type": "code",
   "execution_count": 7,
   "metadata": {},
   "outputs": [],
   "source": [
    "#Crear un histogrma mas rapido\n",
    "def hist(df,i,binz,title,xlabel,ylabel):\n",
    "    plt.hist(df.iloc[:,i], bins=binz, edgecolor='black')\n",
    "\n",
    "    plt.title(title)\n",
    "    plt.xlabel(xlabel)\n",
    "    plt.ylabel(ylabel)\n",
    "\n",
    "    plt.show()"
   ]
  },
  {
   "cell_type": "code",
   "execution_count": 8,
   "metadata": {},
   "outputs": [],
   "source": [
    "#Crear un box plot mas rapido\n",
    "def box(df,i,title,ylabel):\n",
    "    plt.figure(figsize=(6, 4))\n",
    "    plt.boxplot(df.iloc[:,i], vert=True, patch_artist=True)\n",
    "    plt.title(title)\n",
    "    plt.ylabel(ylabel)\n",
    "    plt.grid(True)\n",
    "\n",
    "    plt.show()"
   ]
  },
  {
   "cell_type": "code",
   "execution_count": 9,
   "metadata": {},
   "outputs": [],
   "source": [
    "#Crear un violin plot mas rapido\n",
    "def violin(df,i,title,ylabel):\n",
    "    plt.figure(figsize=(6, 4))\n",
    "    sns.violinplot(data=df.iloc[:,i], inner=\"box\", color=\"lightblue\")  # Ajustar suavidad\n",
    "    plt.title(title)\n",
    "    plt.ylabel(ylabel)\n",
    "    plt.grid(True)\n",
    "    plt.ylim(df.iloc[:,i].min(), df.iloc[:,i].max())\n",
    "    plt.show()"
   ]
  },
  {
   "cell_type": "code",
   "execution_count": 10,
   "metadata": {},
   "outputs": [],
   "source": [
    "#Crear un bar chart mas rapido\n",
    "def bar(df, i, title, xlabel, ylabel):\n",
    "    freq = df.iloc[:,i].value_counts()\n",
    "    \n",
    "    plt.bar(freq.index, freq.values, edgecolor='black')\n",
    "    \n",
    "    plt.title(title)\n",
    "    plt.xlabel(xlabel)\n",
    "    plt.ylabel(ylabel)\n",
    "    \n",
    "    plt.show()\n"
   ]
  },
  {
   "cell_type": "code",
   "execution_count": 11,
   "metadata": {},
   "outputs": [],
   "source": [
    "#Ajuste para que todos los resultados estadisticos tengan 2 decimales\n",
    "pd.options.display.float_format = '{:.2f}'.format"
   ]
  },
  {
   "cell_type": "markdown",
   "metadata": {},
   "source": [
    "# **AISLES**"
   ]
  },
  {
   "cell_type": "code",
   "execution_count": 12,
   "metadata": {},
   "outputs": [
    {
     "name": "stdout",
     "output_type": "stream",
     "text": [
      "     aisle_id                       aisle\n",
      "0           1       prepared soups salads\n",
      "1           2           specialty cheeses\n",
      "2           3         energy granola bars\n",
      "3           4               instant foods\n",
      "4           5  marinades meat preparation\n",
      "..        ...                         ...\n",
      "129       130    hot cereal pancake mixes\n",
      "130       131                   dry pasta\n",
      "131       132                      beauty\n",
      "132       133  muscles joints pain relief\n",
      "133       134  specialty wines champagnes\n",
      "\n",
      "[134 rows x 2 columns]\n"
     ]
    }
   ],
   "source": [
    "#viendo que hay en aisles\n",
    "print(df_aisles)"
   ]
  },
  {
   "cell_type": "markdown",
   "metadata": {},
   "source": [
    "Podemos ver que el df_aisles contiene 134 filas y 2 columnas"
   ]
  },
  {
   "cell_type": "markdown",
   "metadata": {},
   "source": [
    "No tiene mucho sentido hacer describe ya que una columna es el id y la otra una string con el nombre del aisle"
   ]
  },
  {
   "cell_type": "markdown",
   "metadata": {},
   "source": [
    "### Valores nulos"
   ]
  },
  {
   "cell_type": "code",
   "execution_count": 13,
   "metadata": {
    "scrolled": true
   },
   "outputs": [
    {
     "name": "stdout",
     "output_type": "stream",
     "text": [
      "<class 'pandas.core.frame.DataFrame'>\n",
      "RangeIndex: 134 entries, 0 to 133\n",
      "Data columns (total 2 columns):\n",
      " #   Column    Non-Null Count  Dtype \n",
      "---  ------    --------------  ----- \n",
      " 0   aisle_id  134 non-null    int16 \n",
      " 1   aisle     134 non-null    object\n",
      "dtypes: int16(1), object(1)\n",
      "memory usage: 1.4+ KB\n",
      "None\n"
     ]
    }
   ],
   "source": [
    "#viendo si hay valores nulos\n",
    "print(df_aisles.info())"
   ]
  },
  {
   "cell_type": "markdown",
   "metadata": {},
   "source": [
    "Como vemos, no existen nulos en nuestro df."
   ]
  },
  {
   "cell_type": "markdown",
   "metadata": {},
   "source": [
    "### Registros Duplicados"
   ]
  },
  {
   "cell_type": "code",
   "execution_count": 14,
   "metadata": {},
   "outputs": [
    {
     "name": "stdout",
     "output_type": "stream",
     "text": [
      "There are 0 duplicates in the aisle_id\n",
      "There are 0 duplicates in the aisle\n"
     ]
    }
   ],
   "source": [
    "#viendo si hay registros duplicados\n",
    "check_duplicate(df_aisles)"
   ]
  },
  {
   "cell_type": "markdown",
   "metadata": {},
   "source": [
    "No existen registros duplicados."
   ]
  },
  {
   "cell_type": "markdown",
   "metadata": {},
   "source": [
    "### Inconsistencias en los Tipos de Datos"
   ]
  },
  {
   "cell_type": "code",
   "execution_count": 15,
   "metadata": {
    "scrolled": true
   },
   "outputs": [
    {
     "name": "stdout",
     "output_type": "stream",
     "text": [
      "All elements in the column 'aisle_id' have the same data type: True\n",
      "All elements in the column 'aisle' have the same data type: True\n"
     ]
    }
   ],
   "source": [
    "#viendo si hay insonssistencias de tipos\n",
    "check_type(df_aisles)"
   ]
  },
  {
   "cell_type": "markdown",
   "metadata": {},
   "source": [
    "No hay inconsistencia en los tipos de datos."
   ]
  },
  {
   "cell_type": "markdown",
   "metadata": {},
   "source": [
    "### Valores Atípicos"
   ]
  },
  {
   "cell_type": "markdown",
   "metadata": {},
   "source": [
    "Es complicado buscar valores atípicos en una lista de strings. ¿Qué es un valor atipico para una string? Algo que esta mal escrito?"
   ]
  },
  {
   "cell_type": "markdown",
   "metadata": {},
   "source": [
    "### Conclusión"
   ]
  },
  {
   "cell_type": "markdown",
   "metadata": {},
   "source": [
    "Parece que no hay nada muy llamativo sobre la tabla de aisles"
   ]
  },
  {
   "cell_type": "markdown",
   "metadata": {},
   "source": [
    "# Departments"
   ]
  },
  {
   "cell_type": "code",
   "execution_count": 16,
   "metadata": {},
   "outputs": [
    {
     "name": "stdout",
     "output_type": "stream",
     "text": [
      "    department_id       department\n",
      "0               1           frozen\n",
      "1               2            other\n",
      "2               3           bakery\n",
      "3               4          produce\n",
      "4               5          alcohol\n",
      "5               6    international\n",
      "6               7        beverages\n",
      "7               8             pets\n",
      "8               9  dry goods pasta\n",
      "9              10             bulk\n",
      "10             11    personal care\n",
      "11             12     meat seafood\n",
      "12             13           pantry\n",
      "13             14        breakfast\n",
      "14             15     canned goods\n",
      "15             16       dairy eggs\n",
      "16             17        household\n",
      "17             18           babies\n",
      "18             19           snacks\n",
      "19             20             deli\n",
      "20             21          missing\n"
     ]
    }
   ],
   "source": [
    "#viendo que hay en la tabla\n",
    "print(df_departments)"
   ]
  },
  {
   "cell_type": "markdown",
   "metadata": {},
   "source": [
    "Podemos ver que el df_departments contiene 21 filas y 2 columnas."
   ]
  },
  {
   "cell_type": "markdown",
   "metadata": {},
   "source": [
    "No tiene mucho sentido hacer describe ya que una columna es el id y la otra un string con el nombre del departamento. Revisemos valores nulos."
   ]
  },
  {
   "cell_type": "markdown",
   "metadata": {},
   "source": [
    "### Valores nulos"
   ]
  },
  {
   "cell_type": "code",
   "execution_count": 17,
   "metadata": {
    "scrolled": true
   },
   "outputs": [
    {
     "name": "stdout",
     "output_type": "stream",
     "text": [
      "<class 'pandas.core.frame.DataFrame'>\n",
      "RangeIndex: 21 entries, 0 to 20\n",
      "Data columns (total 2 columns):\n",
      " #   Column         Non-Null Count  Dtype \n",
      "---  ------         --------------  ----- \n",
      " 0   department_id  21 non-null     int8  \n",
      " 1   department     21 non-null     object\n",
      "dtypes: int8(1), object(1)\n",
      "memory usage: 317.0+ bytes\n",
      "None\n"
     ]
    }
   ],
   "source": [
    "#viendo si hay valores nulos\n",
    "print(df_departments.info())"
   ]
  },
  {
   "cell_type": "markdown",
   "metadata": {},
   "source": [
    "Como vemos no existen valores nulos en el df_departments."
   ]
  },
  {
   "cell_type": "markdown",
   "metadata": {},
   "source": [
    "### Registros Duplicados"
   ]
  },
  {
   "cell_type": "code",
   "execution_count": 18,
   "metadata": {},
   "outputs": [
    {
     "name": "stdout",
     "output_type": "stream",
     "text": [
      "There are 0 duplicates in the department_id\n",
      "There are 0 duplicates in the department\n"
     ]
    }
   ],
   "source": [
    "#viendo si hay registros duplicados\n",
    "check_duplicate(df_departments)"
   ]
  },
  {
   "cell_type": "markdown",
   "metadata": {},
   "source": [
    "No hay registros duplicados."
   ]
  },
  {
   "cell_type": "markdown",
   "metadata": {},
   "source": [
    "### Inconsistencias de Datos"
   ]
  },
  {
   "cell_type": "code",
   "execution_count": 19,
   "metadata": {
    "scrolled": true
   },
   "outputs": [
    {
     "name": "stdout",
     "output_type": "stream",
     "text": [
      "All elements in the column 'department_id' have the same data type: True\n",
      "All elements in the column 'department' have the same data type: True\n"
     ]
    }
   ],
   "source": [
    "#viendo si hay inconsistencias en los datos\n",
    "check_type(df_departments)"
   ]
  },
  {
   "cell_type": "markdown",
   "metadata": {},
   "source": [
    "No hay inconsistencias en los tipos de datos."
   ]
  },
  {
   "cell_type": "markdown",
   "metadata": {},
   "source": [
    "### Valores Atípicos"
   ]
  },
  {
   "cell_type": "markdown",
   "metadata": {},
   "source": [
    "La fila con id 21 tiene el nombre de \"missing\", lo cual llama bastante la atencion. No podemos concluir nada sin revisar el resto de relaciones"
   ]
  },
  {
   "cell_type": "markdown",
   "metadata": {},
   "source": [
    "## Conclusión"
   ]
  },
  {
   "cell_type": "markdown",
   "metadata": {},
   "source": [
    "Hay que revisar el resto de tablas para ver si hay algo que ocurra con el id 21."
   ]
  },
  {
   "cell_type": "markdown",
   "metadata": {},
   "source": [
    "# Instacart Orders"
   ]
  },
  {
   "cell_type": "code",
   "execution_count": 20,
   "metadata": {},
   "outputs": [
    {
     "name": "stdout",
     "output_type": "stream",
     "text": [
      "        order_id  user_id  order_number  order_dow  order_hour_of_day  \\\n",
      "0        1515936   183418            11          6                 13   \n",
      "1        1690866   163593             5          5                 12   \n",
      "2        1454967    39980             4          5                 19   \n",
      "3        1768857    82516            56          0                 20   \n",
      "4        3007858   196724             2          4                 12   \n",
      "...          ...      ...           ...        ...                ...   \n",
      "478962   3210681     5617             5          1                 14   \n",
      "478963   3270802   112087             2          3                 13   \n",
      "478964    885349    82944            16          2                 11   \n",
      "478965    216274     4391             3          3                  8   \n",
      "478966   2071924     1730            18          1                 14   \n",
      "\n",
      "        days_since_prior_order  \n",
      "0                        30.00  \n",
      "1                         9.00  \n",
      "2                         2.00  \n",
      "3                        10.00  \n",
      "4                        17.00  \n",
      "...                        ...  \n",
      "478962                    7.00  \n",
      "478963                    6.00  \n",
      "478964                    6.00  \n",
      "478965                    8.00  \n",
      "478966                   15.00  \n",
      "\n",
      "[478967 rows x 6 columns]\n"
     ]
    }
   ],
   "source": [
    "#viendo que hay en la tabla\n",
    "print(df_instacart_orders)"
   ]
  },
  {
   "cell_type": "markdown",
   "metadata": {},
   "source": [
    "Podemos ver que df_instacart_orders contiene 478967 filas y 6 columnas."
   ]
  },
  {
   "cell_type": "markdown",
   "metadata": {},
   "source": [
    "### Valores nulos"
   ]
  },
  {
   "cell_type": "code",
   "execution_count": 21,
   "metadata": {},
   "outputs": [
    {
     "name": "stdout",
     "output_type": "stream",
     "text": [
      "<class 'pandas.core.frame.DataFrame'>\n",
      "RangeIndex: 478967 entries, 0 to 478966\n",
      "Data columns (total 6 columns):\n",
      " #   Column                  Non-Null Count   Dtype  \n",
      "---  ------                  --------------   -----  \n",
      " 0   order_id                478967 non-null  int32  \n",
      " 1   user_id                 478967 non-null  int32  \n",
      " 2   order_number            478967 non-null  int8   \n",
      " 3   order_dow               478967 non-null  int8   \n",
      " 4   order_hour_of_day       478967 non-null  int8   \n",
      " 5   days_since_prior_order  450148 non-null  float64\n",
      "dtypes: float64(1), int32(2), int8(3)\n",
      "memory usage: 8.7 MB\n",
      "None\n"
     ]
    }
   ],
   "source": [
    "#viendo si hay valores nulos\n",
    "print(df_instacart_orders.info())"
   ]
  },
  {
   "cell_type": "markdown",
   "metadata": {},
   "source": [
    "Podemos ver que days_since_prior_order contiene registros nulos, tenemos que averiguar por qué."
   ]
  },
  {
   "cell_type": "code",
   "execution_count": 22,
   "metadata": {},
   "outputs": [
    {
     "name": "stdout",
     "output_type": "stream",
     "text": [
      "order_id                      0\n",
      "user_id                       0\n",
      "order_number                  0\n",
      "order_dow                     0\n",
      "order_hour_of_day             0\n",
      "days_since_prior_order    28819\n",
      "dtype: int64\n"
     ]
    }
   ],
   "source": [
    "#haciendo un conteo de los valores nulos\n",
    "print(df_instacart_orders.isnull().sum())"
   ]
  },
  {
   "cell_type": "code",
   "execution_count": 23,
   "metadata": {},
   "outputs": [],
   "source": [
    "#creando un df con solo los valores nulos para analizar a mayor profundidad\n",
    "df_instacart_null = df_instacart_orders[df_instacart_orders.isnull().any(axis=1)]"
   ]
  },
  {
   "cell_type": "code",
   "execution_count": 24,
   "metadata": {},
   "outputs": [
    {
     "name": "stdout",
     "output_type": "stream",
     "text": [
      "        order_number  order_dow  order_hour_of_day  days_since_prior_order\n",
      "28                 1          3                 10                     NaN\n",
      "96                 1          6                 18                     NaN\n",
      "100                1          0                 19                     NaN\n",
      "103                1          4                 16                     NaN\n",
      "104                1          3                 18                     NaN\n",
      "...              ...        ...                ...                     ...\n",
      "478895             1          0                 16                     NaN\n",
      "478896             1          2                 13                     NaN\n",
      "478922             1          1                 15                     NaN\n",
      "478926             1          4                 19                     NaN\n",
      "478945             1          5                 14                     NaN\n",
      "\n",
      "[28819 rows x 4 columns]\n"
     ]
    }
   ],
   "source": [
    "#revisando el df con valores nulos\n",
    "print(df_instacart_null.iloc[:,2:])"
   ]
  },
  {
   "cell_type": "markdown",
   "metadata": {},
   "source": [
    "Hay 28819 filas, a simple vista el lío parece ser que todos tienen como order number el 1, indicando que no ha\n",
    "habido una compra previa por este cliente, tenemos que comprobar esto"
   ]
  },
  {
   "cell_type": "code",
   "execution_count": 25,
   "metadata": {},
   "outputs": [
    {
     "name": "stdout",
     "output_type": "stream",
     "text": [
      "True\n"
     ]
    }
   ],
   "source": [
    "#comprobando si todos los valores nulos tienen 1 en order_number\n",
    "print(df_instacart_null.iloc[:,2].nunique() == 1)"
   ]
  },
  {
   "cell_type": "markdown",
   "metadata": {},
   "source": [
    "Una vez comprobado, nos damos cuenta ue nuestra hipótesis era correcta. Ahora, para lidiar con este problema tenemos 2 opciones, ponerle 0 a todos los valores nulos o -1. Para este caso parece apropiado rellenarlos con 0."
   ]
  },
  {
   "cell_type": "code",
   "execution_count": 26,
   "metadata": {},
   "outputs": [],
   "source": [
    "#rellenando los valores nulos con 0\n",
    "df_instacart_orders.fillna(0, inplace=True)\n",
    "#al solo haber registros nulos en la ultima columna, no hay necesidad de especificar la columna a rellenar"
   ]
  },
  {
   "cell_type": "code",
   "execution_count": 27,
   "metadata": {},
   "outputs": [
    {
     "name": "stdout",
     "output_type": "stream",
     "text": [
      "order_id                  0\n",
      "user_id                   0\n",
      "order_number              0\n",
      "order_dow                 0\n",
      "order_hour_of_day         0\n",
      "days_since_prior_order    0\n",
      "dtype: int64\n"
     ]
    }
   ],
   "source": [
    "#comprobando que ya no hayan valores nulos\n",
    "print(df_instacart_orders.isnull().sum())"
   ]
  },
  {
   "cell_type": "markdown",
   "metadata": {},
   "source": [
    "Queda comprobado que ya no hay valores nulos o atipicos en nuestro df"
   ]
  },
  {
   "cell_type": "markdown",
   "metadata": {},
   "source": [
    "### Registros Duplicados"
   ]
  },
  {
   "cell_type": "code",
   "execution_count": 28,
   "metadata": {},
   "outputs": [
    {
     "name": "stdout",
     "output_type": "stream",
     "text": [
      "There are 15 duplicates in the order_id\n",
      "There are 321530 duplicates in the user_id\n",
      "There are 478867 duplicates in the order_number\n",
      "There are 478960 duplicates in the order_dow\n",
      "There are 478943 duplicates in the order_hour_of_day\n",
      "There are 478936 duplicates in the days_since_prior_order\n"
     ]
    }
   ],
   "source": [
    "#viendo si hay registros duplicados\n",
    "check_duplicate(df_instacart_orders)"
   ]
  },
  {
   "cell_type": "markdown",
   "metadata": {},
   "source": [
    "Podemos ver que hay una gran cantidad de registros duplicados, siendo el caso que en todas menos en order_id hay 6 dígitos de registros duplicados.Los únicos registros duplicados que nos interesan son aquellos que tienen el mismo order_id (la pk), así que vamos a revisar eso. No tiene mucho sentido revisar todos los atributos ya que van a haber más de un registro por día o por hora o por número de compra."
   ]
  },
  {
   "cell_type": "code",
   "execution_count": 29,
   "metadata": {
    "scrolled": true
   },
   "outputs": [
    {
     "name": "stdout",
     "output_type": "stream",
     "text": [
      "15\n"
     ]
    }
   ],
   "source": [
    "#comprobando que sean las pks las cuales se estan repitiendo\n",
    "print(df_instacart_orders[df_instacart_orders.columns[0]].duplicated().sum())"
   ]
  },
  {
   "cell_type": "markdown",
   "metadata": {},
   "source": [
    "Comprobamos que sí hay pks repetidas."
   ]
  },
  {
   "cell_type": "code",
   "execution_count": 30,
   "metadata": {},
   "outputs": [],
   "source": [
    "#haciendo un df solo con los valores duplicados\n",
    "df_instacart_duplicados = df_instacart_orders[df_instacart_orders.iloc[:, 0].duplicated()]"
   ]
  },
  {
   "cell_type": "code",
   "execution_count": 31,
   "metadata": {},
   "outputs": [
    {
     "name": "stdout",
     "output_type": "stream",
     "text": [
      "        order_id  user_id  order_number\n",
      "371905    391768    57671            19\n",
      "321100    408114    68324             4\n",
      "394347    467134    63189            21\n",
      "145574    794638    50898            24\n",
      "311713   1021560    53767             3\n",
      "273805   1112182   202304            84\n",
      "411408   1286742   183220            48\n",
      "266232   1782114   106752             1\n",
      "230807   1918001   188546            14\n",
      "323900   1919531   191501            32\n",
      "441599   2125197    14050            48\n",
      "223105   2160484   107525            16\n",
      "345917   2232988    82565             1\n",
      "415163   2282673    86751            49\n",
      "284038   2845099    31189            11\n"
     ]
    }
   ],
   "source": [
    "#analizando el df que solo tiene valores duplicados\n",
    "print(df_instacart_duplicados.iloc[:,:3].sort_values(by=df_instacart_duplicados.columns[0]))"
   ]
  },
  {
   "cell_type": "markdown",
   "metadata": {},
   "source": [
    "Podemos ver que hay valores duplicados, pero no nos queda claro si hay valores que se repiten 3 veces o mas, así que hay que hacer un count"
   ]
  },
  {
   "cell_type": "code",
   "execution_count": 32,
   "metadata": {
    "scrolled": true
   },
   "outputs": [
    {
     "data": {
      "text/plain": [
       "order_id\n",
       "2282673    2\n",
       "467134     2\n",
       "1286742    2\n",
       "2232988    2\n",
       "1021560    2\n",
       "1919531    2\n",
       "408114     2\n",
       "391768     2\n",
       "1918001    2\n",
       "1112182    2\n",
       "794638     2\n",
       "2125197    2\n",
       "1782114    2\n",
       "2845099    2\n",
       "2160484    2\n",
       "Name: count, dtype: int64"
      ]
     },
     "execution_count": 32,
     "metadata": {},
     "output_type": "execute_result"
    }
   ],
   "source": [
    "#revisando si hay mas de una repeticion por pk\n",
    "df_instacart_orders.iloc[:, 0].value_counts()[df_instacart_orders.iloc[:, 0].value_counts() > 1]"
   ]
  },
  {
   "cell_type": "markdown",
   "metadata": {},
   "source": [
    "Podemos ver que cada valor se repite exactamente 2 veces. ¿Por qué hay estos duplicados? Analicemos un poco los otros atributos para averiguar. Tampoco nos queda claro si los valores duplicados solo son el id o si los otros atributos de la fila también estan duplicados"
   ]
  },
  {
   "cell_type": "code",
   "execution_count": 33,
   "metadata": {},
   "outputs": [
    {
     "data": {
      "text/html": [
       "<div>\n",
       "<style scoped>\n",
       "    .dataframe tbody tr th:only-of-type {\n",
       "        vertical-align: middle;\n",
       "    }\n",
       "\n",
       "    .dataframe tbody tr th {\n",
       "        vertical-align: top;\n",
       "    }\n",
       "\n",
       "    .dataframe thead th {\n",
       "        text-align: right;\n",
       "    }\n",
       "</style>\n",
       "<table border=\"1\" class=\"dataframe\">\n",
       "  <thead>\n",
       "    <tr style=\"text-align: right;\">\n",
       "      <th></th>\n",
       "      <th>order_id</th>\n",
       "      <th>user_id</th>\n",
       "      <th>order_number</th>\n",
       "      <th>order_dow</th>\n",
       "      <th>order_hour_of_day</th>\n",
       "      <th>days_since_prior_order</th>\n",
       "    </tr>\n",
       "  </thead>\n",
       "  <tbody>\n",
       "    <tr>\n",
       "      <th>354993</th>\n",
       "      <td>391768</td>\n",
       "      <td>57671</td>\n",
       "      <td>19</td>\n",
       "      <td>3</td>\n",
       "      <td>2</td>\n",
       "      <td>10.00</td>\n",
       "    </tr>\n",
       "    <tr>\n",
       "      <th>371905</th>\n",
       "      <td>391768</td>\n",
       "      <td>57671</td>\n",
       "      <td>19</td>\n",
       "      <td>3</td>\n",
       "      <td>2</td>\n",
       "      <td>10.00</td>\n",
       "    </tr>\n",
       "    <tr>\n",
       "      <th>119251</th>\n",
       "      <td>408114</td>\n",
       "      <td>68324</td>\n",
       "      <td>4</td>\n",
       "      <td>3</td>\n",
       "      <td>2</td>\n",
       "      <td>18.00</td>\n",
       "    </tr>\n",
       "    <tr>\n",
       "      <th>321100</th>\n",
       "      <td>408114</td>\n",
       "      <td>68324</td>\n",
       "      <td>4</td>\n",
       "      <td>3</td>\n",
       "      <td>2</td>\n",
       "      <td>18.00</td>\n",
       "    </tr>\n",
       "    <tr>\n",
       "      <th>394347</th>\n",
       "      <td>467134</td>\n",
       "      <td>63189</td>\n",
       "      <td>21</td>\n",
       "      <td>3</td>\n",
       "      <td>2</td>\n",
       "      <td>2.00</td>\n",
       "    </tr>\n",
       "    <tr>\n",
       "      <th>250626</th>\n",
       "      <td>467134</td>\n",
       "      <td>63189</td>\n",
       "      <td>21</td>\n",
       "      <td>3</td>\n",
       "      <td>2</td>\n",
       "      <td>2.00</td>\n",
       "    </tr>\n",
       "    <tr>\n",
       "      <th>99462</th>\n",
       "      <td>794638</td>\n",
       "      <td>50898</td>\n",
       "      <td>24</td>\n",
       "      <td>3</td>\n",
       "      <td>2</td>\n",
       "      <td>2.00</td>\n",
       "    </tr>\n",
       "    <tr>\n",
       "      <th>145574</th>\n",
       "      <td>794638</td>\n",
       "      <td>50898</td>\n",
       "      <td>24</td>\n",
       "      <td>3</td>\n",
       "      <td>2</td>\n",
       "      <td>2.00</td>\n",
       "    </tr>\n",
       "    <tr>\n",
       "      <th>311713</th>\n",
       "      <td>1021560</td>\n",
       "      <td>53767</td>\n",
       "      <td>3</td>\n",
       "      <td>3</td>\n",
       "      <td>2</td>\n",
       "      <td>9.00</td>\n",
       "    </tr>\n",
       "    <tr>\n",
       "      <th>242618</th>\n",
       "      <td>1021560</td>\n",
       "      <td>53767</td>\n",
       "      <td>3</td>\n",
       "      <td>3</td>\n",
       "      <td>2</td>\n",
       "      <td>9.00</td>\n",
       "    </tr>\n",
       "    <tr>\n",
       "      <th>164581</th>\n",
       "      <td>1112182</td>\n",
       "      <td>202304</td>\n",
       "      <td>84</td>\n",
       "      <td>3</td>\n",
       "      <td>2</td>\n",
       "      <td>6.00</td>\n",
       "    </tr>\n",
       "    <tr>\n",
       "      <th>273805</th>\n",
       "      <td>1112182</td>\n",
       "      <td>202304</td>\n",
       "      <td>84</td>\n",
       "      <td>3</td>\n",
       "      <td>2</td>\n",
       "      <td>6.00</td>\n",
       "    </tr>\n",
       "    <tr>\n",
       "      <th>314427</th>\n",
       "      <td>1286742</td>\n",
       "      <td>183220</td>\n",
       "      <td>48</td>\n",
       "      <td>3</td>\n",
       "      <td>2</td>\n",
       "      <td>4.00</td>\n",
       "    </tr>\n",
       "    <tr>\n",
       "      <th>411408</th>\n",
       "      <td>1286742</td>\n",
       "      <td>183220</td>\n",
       "      <td>48</td>\n",
       "      <td>3</td>\n",
       "      <td>2</td>\n",
       "      <td>4.00</td>\n",
       "    </tr>\n",
       "    <tr>\n",
       "      <th>266232</th>\n",
       "      <td>1782114</td>\n",
       "      <td>106752</td>\n",
       "      <td>1</td>\n",
       "      <td>3</td>\n",
       "      <td>2</td>\n",
       "      <td>0.00</td>\n",
       "    </tr>\n",
       "    <tr>\n",
       "      <th>200059</th>\n",
       "      <td>1782114</td>\n",
       "      <td>106752</td>\n",
       "      <td>1</td>\n",
       "      <td>3</td>\n",
       "      <td>2</td>\n",
       "      <td>0.00</td>\n",
       "    </tr>\n",
       "    <tr>\n",
       "      <th>230807</th>\n",
       "      <td>1918001</td>\n",
       "      <td>188546</td>\n",
       "      <td>14</td>\n",
       "      <td>3</td>\n",
       "      <td>2</td>\n",
       "      <td>16.00</td>\n",
       "    </tr>\n",
       "    <tr>\n",
       "      <th>30371</th>\n",
       "      <td>1918001</td>\n",
       "      <td>188546</td>\n",
       "      <td>14</td>\n",
       "      <td>3</td>\n",
       "      <td>2</td>\n",
       "      <td>16.00</td>\n",
       "    </tr>\n",
       "    <tr>\n",
       "      <th>257934</th>\n",
       "      <td>1919531</td>\n",
       "      <td>191501</td>\n",
       "      <td>32</td>\n",
       "      <td>3</td>\n",
       "      <td>2</td>\n",
       "      <td>7.00</td>\n",
       "    </tr>\n",
       "    <tr>\n",
       "      <th>323900</th>\n",
       "      <td>1919531</td>\n",
       "      <td>191501</td>\n",
       "      <td>32</td>\n",
       "      <td>3</td>\n",
       "      <td>2</td>\n",
       "      <td>7.00</td>\n",
       "    </tr>\n",
       "    <tr>\n",
       "      <th>441599</th>\n",
       "      <td>2125197</td>\n",
       "      <td>14050</td>\n",
       "      <td>48</td>\n",
       "      <td>3</td>\n",
       "      <td>2</td>\n",
       "      <td>3.00</td>\n",
       "    </tr>\n",
       "    <tr>\n",
       "      <th>204042</th>\n",
       "      <td>2125197</td>\n",
       "      <td>14050</td>\n",
       "      <td>48</td>\n",
       "      <td>3</td>\n",
       "      <td>2</td>\n",
       "      <td>3.00</td>\n",
       "    </tr>\n",
       "    <tr>\n",
       "      <th>223105</th>\n",
       "      <td>2160484</td>\n",
       "      <td>107525</td>\n",
       "      <td>16</td>\n",
       "      <td>3</td>\n",
       "      <td>2</td>\n",
       "      <td>30.00</td>\n",
       "    </tr>\n",
       "    <tr>\n",
       "      <th>215294</th>\n",
       "      <td>2160484</td>\n",
       "      <td>107525</td>\n",
       "      <td>16</td>\n",
       "      <td>3</td>\n",
       "      <td>2</td>\n",
       "      <td>30.00</td>\n",
       "    </tr>\n",
       "    <tr>\n",
       "      <th>324868</th>\n",
       "      <td>2232988</td>\n",
       "      <td>82565</td>\n",
       "      <td>1</td>\n",
       "      <td>3</td>\n",
       "      <td>2</td>\n",
       "      <td>0.00</td>\n",
       "    </tr>\n",
       "    <tr>\n",
       "      <th>345917</th>\n",
       "      <td>2232988</td>\n",
       "      <td>82565</td>\n",
       "      <td>1</td>\n",
       "      <td>3</td>\n",
       "      <td>2</td>\n",
       "      <td>0.00</td>\n",
       "    </tr>\n",
       "    <tr>\n",
       "      <th>415163</th>\n",
       "      <td>2282673</td>\n",
       "      <td>86751</td>\n",
       "      <td>49</td>\n",
       "      <td>3</td>\n",
       "      <td>2</td>\n",
       "      <td>2.00</td>\n",
       "    </tr>\n",
       "    <tr>\n",
       "      <th>259636</th>\n",
       "      <td>2282673</td>\n",
       "      <td>86751</td>\n",
       "      <td>49</td>\n",
       "      <td>3</td>\n",
       "      <td>2</td>\n",
       "      <td>2.00</td>\n",
       "    </tr>\n",
       "    <tr>\n",
       "      <th>142258</th>\n",
       "      <td>2845099</td>\n",
       "      <td>31189</td>\n",
       "      <td>11</td>\n",
       "      <td>3</td>\n",
       "      <td>2</td>\n",
       "      <td>7.00</td>\n",
       "    </tr>\n",
       "    <tr>\n",
       "      <th>284038</th>\n",
       "      <td>2845099</td>\n",
       "      <td>31189</td>\n",
       "      <td>11</td>\n",
       "      <td>3</td>\n",
       "      <td>2</td>\n",
       "      <td>7.00</td>\n",
       "    </tr>\n",
       "  </tbody>\n",
       "</table>\n",
       "</div>"
      ],
      "text/plain": [
       "        order_id  user_id  order_number  order_dow  order_hour_of_day  \\\n",
       "354993    391768    57671            19          3                  2   \n",
       "371905    391768    57671            19          3                  2   \n",
       "119251    408114    68324             4          3                  2   \n",
       "321100    408114    68324             4          3                  2   \n",
       "394347    467134    63189            21          3                  2   \n",
       "250626    467134    63189            21          3                  2   \n",
       "99462     794638    50898            24          3                  2   \n",
       "145574    794638    50898            24          3                  2   \n",
       "311713   1021560    53767             3          3                  2   \n",
       "242618   1021560    53767             3          3                  2   \n",
       "164581   1112182   202304            84          3                  2   \n",
       "273805   1112182   202304            84          3                  2   \n",
       "314427   1286742   183220            48          3                  2   \n",
       "411408   1286742   183220            48          3                  2   \n",
       "266232   1782114   106752             1          3                  2   \n",
       "200059   1782114   106752             1          3                  2   \n",
       "230807   1918001   188546            14          3                  2   \n",
       "30371    1918001   188546            14          3                  2   \n",
       "257934   1919531   191501            32          3                  2   \n",
       "323900   1919531   191501            32          3                  2   \n",
       "441599   2125197    14050            48          3                  2   \n",
       "204042   2125197    14050            48          3                  2   \n",
       "223105   2160484   107525            16          3                  2   \n",
       "215294   2160484   107525            16          3                  2   \n",
       "324868   2232988    82565             1          3                  2   \n",
       "345917   2232988    82565             1          3                  2   \n",
       "415163   2282673    86751            49          3                  2   \n",
       "259636   2282673    86751            49          3                  2   \n",
       "142258   2845099    31189            11          3                  2   \n",
       "284038   2845099    31189            11          3                  2   \n",
       "\n",
       "        days_since_prior_order  \n",
       "354993                   10.00  \n",
       "371905                   10.00  \n",
       "119251                   18.00  \n",
       "321100                   18.00  \n",
       "394347                    2.00  \n",
       "250626                    2.00  \n",
       "99462                     2.00  \n",
       "145574                    2.00  \n",
       "311713                    9.00  \n",
       "242618                    9.00  \n",
       "164581                    6.00  \n",
       "273805                    6.00  \n",
       "314427                    4.00  \n",
       "411408                    4.00  \n",
       "266232                    0.00  \n",
       "200059                    0.00  \n",
       "230807                   16.00  \n",
       "30371                    16.00  \n",
       "257934                    7.00  \n",
       "323900                    7.00  \n",
       "441599                    3.00  \n",
       "204042                    3.00  \n",
       "223105                   30.00  \n",
       "215294                   30.00  \n",
       "324868                    0.00  \n",
       "345917                    0.00  \n",
       "415163                    2.00  \n",
       "259636                    2.00  \n",
       "142258                    7.00  \n",
       "284038                    7.00  "
      ]
     },
     "execution_count": 33,
     "metadata": {},
     "output_type": "execute_result"
    }
   ],
   "source": [
    "#viendo si hay algun patron en los datos duplicados\n",
    "df_instacart_orders[df_instacart_orders.iloc[:, 0].isin(df_instacart_duplicados.iloc[:, 0])].sort_values(by=df_instacart_duplicados.columns[0])\n"
   ]
  },
  {
   "cell_type": "markdown",
   "metadata": {},
   "source": [
    "Con esto nos queda claro que hay valores repetidos en todas las columnas. Aún no sabemos por qué.También pudimos haber hecho un duplicated sin especificar la columna y ver si eso era verdadero"
   ]
  },
  {
   "cell_type": "code",
   "execution_count": 34,
   "metadata": {
    "scrolled": false
   },
   "outputs": [
    {
     "data": {
      "text/html": [
       "<div>\n",
       "<style scoped>\n",
       "    .dataframe tbody tr th:only-of-type {\n",
       "        vertical-align: middle;\n",
       "    }\n",
       "\n",
       "    .dataframe tbody tr th {\n",
       "        vertical-align: top;\n",
       "    }\n",
       "\n",
       "    .dataframe thead th {\n",
       "        text-align: right;\n",
       "    }\n",
       "</style>\n",
       "<table border=\"1\" class=\"dataframe\">\n",
       "  <thead>\n",
       "    <tr style=\"text-align: right;\">\n",
       "      <th></th>\n",
       "      <th>order_id</th>\n",
       "      <th>user_id</th>\n",
       "      <th>order_number</th>\n",
       "      <th>order_dow</th>\n",
       "      <th>order_hour_of_day</th>\n",
       "      <th>days_since_prior_order</th>\n",
       "    </tr>\n",
       "  </thead>\n",
       "  <tbody>\n",
       "    <tr>\n",
       "      <th>371905</th>\n",
       "      <td>391768</td>\n",
       "      <td>57671</td>\n",
       "      <td>19</td>\n",
       "      <td>3</td>\n",
       "      <td>2</td>\n",
       "      <td>10.00</td>\n",
       "    </tr>\n",
       "    <tr>\n",
       "      <th>321100</th>\n",
       "      <td>408114</td>\n",
       "      <td>68324</td>\n",
       "      <td>4</td>\n",
       "      <td>3</td>\n",
       "      <td>2</td>\n",
       "      <td>18.00</td>\n",
       "    </tr>\n",
       "    <tr>\n",
       "      <th>394347</th>\n",
       "      <td>467134</td>\n",
       "      <td>63189</td>\n",
       "      <td>21</td>\n",
       "      <td>3</td>\n",
       "      <td>2</td>\n",
       "      <td>2.00</td>\n",
       "    </tr>\n",
       "    <tr>\n",
       "      <th>145574</th>\n",
       "      <td>794638</td>\n",
       "      <td>50898</td>\n",
       "      <td>24</td>\n",
       "      <td>3</td>\n",
       "      <td>2</td>\n",
       "      <td>2.00</td>\n",
       "    </tr>\n",
       "    <tr>\n",
       "      <th>311713</th>\n",
       "      <td>1021560</td>\n",
       "      <td>53767</td>\n",
       "      <td>3</td>\n",
       "      <td>3</td>\n",
       "      <td>2</td>\n",
       "      <td>9.00</td>\n",
       "    </tr>\n",
       "    <tr>\n",
       "      <th>273805</th>\n",
       "      <td>1112182</td>\n",
       "      <td>202304</td>\n",
       "      <td>84</td>\n",
       "      <td>3</td>\n",
       "      <td>2</td>\n",
       "      <td>6.00</td>\n",
       "    </tr>\n",
       "    <tr>\n",
       "      <th>411408</th>\n",
       "      <td>1286742</td>\n",
       "      <td>183220</td>\n",
       "      <td>48</td>\n",
       "      <td>3</td>\n",
       "      <td>2</td>\n",
       "      <td>4.00</td>\n",
       "    </tr>\n",
       "    <tr>\n",
       "      <th>266232</th>\n",
       "      <td>1782114</td>\n",
       "      <td>106752</td>\n",
       "      <td>1</td>\n",
       "      <td>3</td>\n",
       "      <td>2</td>\n",
       "      <td>0.00</td>\n",
       "    </tr>\n",
       "    <tr>\n",
       "      <th>230807</th>\n",
       "      <td>1918001</td>\n",
       "      <td>188546</td>\n",
       "      <td>14</td>\n",
       "      <td>3</td>\n",
       "      <td>2</td>\n",
       "      <td>16.00</td>\n",
       "    </tr>\n",
       "    <tr>\n",
       "      <th>323900</th>\n",
       "      <td>1919531</td>\n",
       "      <td>191501</td>\n",
       "      <td>32</td>\n",
       "      <td>3</td>\n",
       "      <td>2</td>\n",
       "      <td>7.00</td>\n",
       "    </tr>\n",
       "    <tr>\n",
       "      <th>441599</th>\n",
       "      <td>2125197</td>\n",
       "      <td>14050</td>\n",
       "      <td>48</td>\n",
       "      <td>3</td>\n",
       "      <td>2</td>\n",
       "      <td>3.00</td>\n",
       "    </tr>\n",
       "    <tr>\n",
       "      <th>223105</th>\n",
       "      <td>2160484</td>\n",
       "      <td>107525</td>\n",
       "      <td>16</td>\n",
       "      <td>3</td>\n",
       "      <td>2</td>\n",
       "      <td>30.00</td>\n",
       "    </tr>\n",
       "    <tr>\n",
       "      <th>345917</th>\n",
       "      <td>2232988</td>\n",
       "      <td>82565</td>\n",
       "      <td>1</td>\n",
       "      <td>3</td>\n",
       "      <td>2</td>\n",
       "      <td>0.00</td>\n",
       "    </tr>\n",
       "    <tr>\n",
       "      <th>415163</th>\n",
       "      <td>2282673</td>\n",
       "      <td>86751</td>\n",
       "      <td>49</td>\n",
       "      <td>3</td>\n",
       "      <td>2</td>\n",
       "      <td>2.00</td>\n",
       "    </tr>\n",
       "    <tr>\n",
       "      <th>284038</th>\n",
       "      <td>2845099</td>\n",
       "      <td>31189</td>\n",
       "      <td>11</td>\n",
       "      <td>3</td>\n",
       "      <td>2</td>\n",
       "      <td>7.00</td>\n",
       "    </tr>\n",
       "  </tbody>\n",
       "</table>\n",
       "</div>"
      ],
      "text/plain": [
       "        order_id  user_id  order_number  order_dow  order_hour_of_day  \\\n",
       "371905    391768    57671            19          3                  2   \n",
       "321100    408114    68324             4          3                  2   \n",
       "394347    467134    63189            21          3                  2   \n",
       "145574    794638    50898            24          3                  2   \n",
       "311713   1021560    53767             3          3                  2   \n",
       "273805   1112182   202304            84          3                  2   \n",
       "411408   1286742   183220            48          3                  2   \n",
       "266232   1782114   106752             1          3                  2   \n",
       "230807   1918001   188546            14          3                  2   \n",
       "323900   1919531   191501            32          3                  2   \n",
       "441599   2125197    14050            48          3                  2   \n",
       "223105   2160484   107525            16          3                  2   \n",
       "345917   2232988    82565             1          3                  2   \n",
       "415163   2282673    86751            49          3                  2   \n",
       "284038   2845099    31189            11          3                  2   \n",
       "\n",
       "        days_since_prior_order  \n",
       "371905                   10.00  \n",
       "321100                   18.00  \n",
       "394347                    2.00  \n",
       "145574                    2.00  \n",
       "311713                    9.00  \n",
       "273805                    6.00  \n",
       "411408                    4.00  \n",
       "266232                    0.00  \n",
       "230807                   16.00  \n",
       "323900                    7.00  \n",
       "441599                    3.00  \n",
       "223105                   30.00  \n",
       "345917                    0.00  \n",
       "415163                    2.00  \n",
       "284038                    7.00  "
      ]
     },
     "execution_count": 34,
     "metadata": {},
     "output_type": "execute_result"
    }
   ],
   "source": [
    "#buscando mas patrones en la data\n",
    "df_instacart_duplicados.iloc[:, :].sort_values(by=df_instacart_duplicados.columns[0])"
   ]
  },
  {
   "cell_type": "markdown",
   "metadata": {},
   "source": [
    "Al revisar los datos, hay un patrón evidente. Las compras realizadas los días jueves (asumiendo 0 = lunes) a las 2 de la mañana se repiten. Ahora, tenemos que revisar en el resto de la data para comprobar esto. Es posible que tan solo hayan 15 (30 por lo que aparecen 2 veces) entradas donde esto haya ocurrido."
   ]
  },
  {
   "cell_type": "code",
   "execution_count": 35,
   "metadata": {
    "scrolled": false
   },
   "outputs": [],
   "source": [
    "#haciendo un df que contenga el dow 3 y el hour of day 2 de todo instacart_orders\n",
    "df_32 = df_instacart_orders[(df_instacart_orders['order_dow'] == 3) & (df_instacart_orders['order_hour_of_day'] == 2)].sort_values(by=df_instacart_orders.columns[0])"
   ]
  },
  {
   "cell_type": "code",
   "execution_count": 36,
   "metadata": {},
   "outputs": [
    {
     "name": "stdout",
     "output_type": "stream",
     "text": [
      "        order_id  user_id  order_number  order_dow  order_hour_of_day  \\\n",
      "452265       191   176417            44          3                  2   \n",
      "468324    222962    54979            59          3                  2   \n",
      "247867    238782   196224             6          3                  2   \n",
      "417106    248760   204961            25          3                  2   \n",
      "328565    264348    34806             6          3                  2   \n",
      "...          ...      ...           ...        ...                ...   \n",
      "97378    3226444   149996             3          3                  2   \n",
      "416198   3275652   169225             7          3                  2   \n",
      "415975   3286161    77320             9          3                  2   \n",
      "457013   3384021    14881             6          3                  2   \n",
      "178465   3389820    21703             2          3                  2   \n",
      "\n",
      "        days_since_prior_order  \n",
      "452265                    6.00  \n",
      "468324                    3.00  \n",
      "247867                    3.00  \n",
      "417106                   15.00  \n",
      "328565                    5.00  \n",
      "...                        ...  \n",
      "97378                    23.00  \n",
      "416198                   30.00  \n",
      "415975                    8.00  \n",
      "457013                   30.00  \n",
      "178465                   11.00  \n",
      "\n",
      "[121 rows x 6 columns]\n"
     ]
    }
   ],
   "source": [
    "#revisando el df de dow 3 y hora 2\n",
    "print(df_32)"
   ]
  },
  {
   "cell_type": "markdown",
   "metadata": {},
   "source": [
    "Esperábamos un valor de 30 (15*2) pero obtuvimos 121 valores. Veamos si hallamos algún patrón."
   ]
  },
  {
   "cell_type": "code",
   "execution_count": 37,
   "metadata": {
    "scrolled": false
   },
   "outputs": [
    {
     "data": {
      "text/html": [
       "<div>\n",
       "<style scoped>\n",
       "    .dataframe tbody tr th:only-of-type {\n",
       "        vertical-align: middle;\n",
       "    }\n",
       "\n",
       "    .dataframe tbody tr th {\n",
       "        vertical-align: top;\n",
       "    }\n",
       "\n",
       "    .dataframe thead th {\n",
       "        text-align: right;\n",
       "    }\n",
       "</style>\n",
       "<table border=\"1\" class=\"dataframe\">\n",
       "  <thead>\n",
       "    <tr style=\"text-align: right;\">\n",
       "      <th></th>\n",
       "      <th>order_id</th>\n",
       "      <th>user_id</th>\n",
       "      <th>order_number</th>\n",
       "      <th>order_dow</th>\n",
       "      <th>order_hour_of_day</th>\n",
       "      <th>days_since_prior_order</th>\n",
       "    </tr>\n",
       "  </thead>\n",
       "  <tbody>\n",
       "    <tr>\n",
       "      <th>119251</th>\n",
       "      <td>408114</td>\n",
       "      <td>68324</td>\n",
       "      <td>4</td>\n",
       "      <td>3</td>\n",
       "      <td>2</td>\n",
       "      <td>18.00</td>\n",
       "    </tr>\n",
       "    <tr>\n",
       "      <th>155154</th>\n",
       "      <td>449909</td>\n",
       "      <td>198005</td>\n",
       "      <td>19</td>\n",
       "      <td>3</td>\n",
       "      <td>2</td>\n",
       "      <td>30.00</td>\n",
       "    </tr>\n",
       "    <tr>\n",
       "      <th>394347</th>\n",
       "      <td>467134</td>\n",
       "      <td>63189</td>\n",
       "      <td>21</td>\n",
       "      <td>3</td>\n",
       "      <td>2</td>\n",
       "      <td>2.00</td>\n",
       "    </tr>\n",
       "    <tr>\n",
       "      <th>250626</th>\n",
       "      <td>467134</td>\n",
       "      <td>63189</td>\n",
       "      <td>21</td>\n",
       "      <td>3</td>\n",
       "      <td>2</td>\n",
       "      <td>2.00</td>\n",
       "    </tr>\n",
       "    <tr>\n",
       "      <th>328609</th>\n",
       "      <td>494201</td>\n",
       "      <td>3510</td>\n",
       "      <td>23</td>\n",
       "      <td>3</td>\n",
       "      <td>2</td>\n",
       "      <td>16.00</td>\n",
       "    </tr>\n",
       "    <tr>\n",
       "      <th>441694</th>\n",
       "      <td>508008</td>\n",
       "      <td>82399</td>\n",
       "      <td>3</td>\n",
       "      <td>3</td>\n",
       "      <td>2</td>\n",
       "      <td>4.00</td>\n",
       "    </tr>\n",
       "    <tr>\n",
       "      <th>420254</th>\n",
       "      <td>522496</td>\n",
       "      <td>79672</td>\n",
       "      <td>7</td>\n",
       "      <td>3</td>\n",
       "      <td>2</td>\n",
       "      <td>6.00</td>\n",
       "    </tr>\n",
       "    <tr>\n",
       "      <th>15506</th>\n",
       "      <td>553049</td>\n",
       "      <td>58599</td>\n",
       "      <td>13</td>\n",
       "      <td>3</td>\n",
       "      <td>2</td>\n",
       "      <td>7.00</td>\n",
       "    </tr>\n",
       "    <tr>\n",
       "      <th>255538</th>\n",
       "      <td>577527</td>\n",
       "      <td>5253</td>\n",
       "      <td>96</td>\n",
       "      <td>3</td>\n",
       "      <td>2</td>\n",
       "      <td>2.00</td>\n",
       "    </tr>\n",
       "    <tr>\n",
       "      <th>74991</th>\n",
       "      <td>592699</td>\n",
       "      <td>175625</td>\n",
       "      <td>2</td>\n",
       "      <td>3</td>\n",
       "      <td>2</td>\n",
       "      <td>30.00</td>\n",
       "    </tr>\n",
       "    <tr>\n",
       "      <th>256910</th>\n",
       "      <td>593561</td>\n",
       "      <td>134463</td>\n",
       "      <td>12</td>\n",
       "      <td>3</td>\n",
       "      <td>2</td>\n",
       "      <td>2.00</td>\n",
       "    </tr>\n",
       "    <tr>\n",
       "      <th>294699</th>\n",
       "      <td>596062</td>\n",
       "      <td>168453</td>\n",
       "      <td>26</td>\n",
       "      <td>3</td>\n",
       "      <td>2</td>\n",
       "      <td>7.00</td>\n",
       "    </tr>\n",
       "    <tr>\n",
       "      <th>307317</th>\n",
       "      <td>632042</td>\n",
       "      <td>189369</td>\n",
       "      <td>6</td>\n",
       "      <td>3</td>\n",
       "      <td>2</td>\n",
       "      <td>8.00</td>\n",
       "    </tr>\n",
       "    <tr>\n",
       "      <th>24691</th>\n",
       "      <td>690242</td>\n",
       "      <td>77357</td>\n",
       "      <td>2</td>\n",
       "      <td>3</td>\n",
       "      <td>2</td>\n",
       "      <td>9.00</td>\n",
       "    </tr>\n",
       "    <tr>\n",
       "      <th>307518</th>\n",
       "      <td>736983</td>\n",
       "      <td>11556</td>\n",
       "      <td>4</td>\n",
       "      <td>3</td>\n",
       "      <td>2</td>\n",
       "      <td>16.00</td>\n",
       "    </tr>\n",
       "    <tr>\n",
       "      <th>189211</th>\n",
       "      <td>738145</td>\n",
       "      <td>37225</td>\n",
       "      <td>4</td>\n",
       "      <td>3</td>\n",
       "      <td>2</td>\n",
       "      <td>9.00</td>\n",
       "    </tr>\n",
       "    <tr>\n",
       "      <th>400167</th>\n",
       "      <td>774488</td>\n",
       "      <td>66195</td>\n",
       "      <td>16</td>\n",
       "      <td>3</td>\n",
       "      <td>2</td>\n",
       "      <td>2.00</td>\n",
       "    </tr>\n",
       "    <tr>\n",
       "      <th>443590</th>\n",
       "      <td>781491</td>\n",
       "      <td>51960</td>\n",
       "      <td>5</td>\n",
       "      <td>3</td>\n",
       "      <td>2</td>\n",
       "      <td>30.00</td>\n",
       "    </tr>\n",
       "    <tr>\n",
       "      <th>145574</th>\n",
       "      <td>794638</td>\n",
       "      <td>50898</td>\n",
       "      <td>24</td>\n",
       "      <td>3</td>\n",
       "      <td>2</td>\n",
       "      <td>2.00</td>\n",
       "    </tr>\n",
       "    <tr>\n",
       "      <th>99462</th>\n",
       "      <td>794638</td>\n",
       "      <td>50898</td>\n",
       "      <td>24</td>\n",
       "      <td>3</td>\n",
       "      <td>2</td>\n",
       "      <td>2.00</td>\n",
       "    </tr>\n",
       "    <tr>\n",
       "      <th>245787</th>\n",
       "      <td>819551</td>\n",
       "      <td>29545</td>\n",
       "      <td>15</td>\n",
       "      <td>3</td>\n",
       "      <td>2</td>\n",
       "      <td>4.00</td>\n",
       "    </tr>\n",
       "  </tbody>\n",
       "</table>\n",
       "</div>"
      ],
      "text/plain": [
       "        order_id  user_id  order_number  order_dow  order_hour_of_day  \\\n",
       "119251    408114    68324             4          3                  2   \n",
       "155154    449909   198005            19          3                  2   \n",
       "394347    467134    63189            21          3                  2   \n",
       "250626    467134    63189            21          3                  2   \n",
       "328609    494201     3510            23          3                  2   \n",
       "441694    508008    82399             3          3                  2   \n",
       "420254    522496    79672             7          3                  2   \n",
       "15506     553049    58599            13          3                  2   \n",
       "255538    577527     5253            96          3                  2   \n",
       "74991     592699   175625             2          3                  2   \n",
       "256910    593561   134463            12          3                  2   \n",
       "294699    596062   168453            26          3                  2   \n",
       "307317    632042   189369             6          3                  2   \n",
       "24691     690242    77357             2          3                  2   \n",
       "307518    736983    11556             4          3                  2   \n",
       "189211    738145    37225             4          3                  2   \n",
       "400167    774488    66195            16          3                  2   \n",
       "443590    781491    51960             5          3                  2   \n",
       "145574    794638    50898            24          3                  2   \n",
       "99462     794638    50898            24          3                  2   \n",
       "245787    819551    29545            15          3                  2   \n",
       "\n",
       "        days_since_prior_order  \n",
       "119251                   18.00  \n",
       "155154                   30.00  \n",
       "394347                    2.00  \n",
       "250626                    2.00  \n",
       "328609                   16.00  \n",
       "441694                    4.00  \n",
       "420254                    6.00  \n",
       "15506                     7.00  \n",
       "255538                    2.00  \n",
       "74991                    30.00  \n",
       "256910                    2.00  \n",
       "294699                    7.00  \n",
       "307317                    8.00  \n",
       "24691                     9.00  \n",
       "307518                   16.00  \n",
       "189211                    9.00  \n",
       "400167                    2.00  \n",
       "443590                   30.00  \n",
       "145574                    2.00  \n",
       "99462                     2.00  \n",
       "245787                    4.00  "
      ]
     },
     "execution_count": 37,
     "metadata": {},
     "output_type": "execute_result"
    }
   ],
   "source": [
    "#viendo mas datos a ver si hallamos algun patron\n",
    "df_32.iloc[16:37,:]"
   ]
  },
  {
   "cell_type": "code",
   "execution_count": 38,
   "metadata": {
    "scrolled": false
   },
   "outputs": [
    {
     "data": {
      "text/html": [
       "<div>\n",
       "<style scoped>\n",
       "    .dataframe tbody tr th:only-of-type {\n",
       "        vertical-align: middle;\n",
       "    }\n",
       "\n",
       "    .dataframe tbody tr th {\n",
       "        vertical-align: top;\n",
       "    }\n",
       "\n",
       "    .dataframe thead th {\n",
       "        text-align: right;\n",
       "    }\n",
       "</style>\n",
       "<table border=\"1\" class=\"dataframe\">\n",
       "  <thead>\n",
       "    <tr style=\"text-align: right;\">\n",
       "      <th></th>\n",
       "      <th>order_id</th>\n",
       "      <th>user_id</th>\n",
       "      <th>order_number</th>\n",
       "      <th>order_dow</th>\n",
       "      <th>order_hour_of_day</th>\n",
       "      <th>days_since_prior_order</th>\n",
       "    </tr>\n",
       "  </thead>\n",
       "  <tbody>\n",
       "    <tr>\n",
       "      <th>115749</th>\n",
       "      <td>4</td>\n",
       "      <td>178520</td>\n",
       "      <td>36</td>\n",
       "      <td>1</td>\n",
       "      <td>9</td>\n",
       "      <td>7.00</td>\n",
       "    </tr>\n",
       "    <tr>\n",
       "      <th>448097</th>\n",
       "      <td>9</td>\n",
       "      <td>139016</td>\n",
       "      <td>14</td>\n",
       "      <td>0</td>\n",
       "      <td>19</td>\n",
       "      <td>5.00</td>\n",
       "    </tr>\n",
       "    <tr>\n",
       "      <th>306354</th>\n",
       "      <td>11</td>\n",
       "      <td>143742</td>\n",
       "      <td>4</td>\n",
       "      <td>1</td>\n",
       "      <td>19</td>\n",
       "      <td>23.00</td>\n",
       "    </tr>\n",
       "    <tr>\n",
       "      <th>436240</th>\n",
       "      <td>19</td>\n",
       "      <td>83009</td>\n",
       "      <td>7</td>\n",
       "      <td>5</td>\n",
       "      <td>17</td>\n",
       "      <td>13.00</td>\n",
       "    </tr>\n",
       "    <tr>\n",
       "      <th>457461</th>\n",
       "      <td>20</td>\n",
       "      <td>182912</td>\n",
       "      <td>1</td>\n",
       "      <td>6</td>\n",
       "      <td>17</td>\n",
       "      <td>0.00</td>\n",
       "    </tr>\n",
       "    <tr>\n",
       "      <th>205236</th>\n",
       "      <td>31</td>\n",
       "      <td>201744</td>\n",
       "      <td>7</td>\n",
       "      <td>6</td>\n",
       "      <td>15</td>\n",
       "      <td>14.00</td>\n",
       "    </tr>\n",
       "    <tr>\n",
       "      <th>433082</th>\n",
       "      <td>36</td>\n",
       "      <td>79431</td>\n",
       "      <td>23</td>\n",
       "      <td>6</td>\n",
       "      <td>18</td>\n",
       "      <td>30.00</td>\n",
       "    </tr>\n",
       "    <tr>\n",
       "      <th>455776</th>\n",
       "      <td>48</td>\n",
       "      <td>172786</td>\n",
       "      <td>5</td>\n",
       "      <td>2</td>\n",
       "      <td>0</td>\n",
       "      <td>30.00</td>\n",
       "    </tr>\n",
       "    <tr>\n",
       "      <th>189808</th>\n",
       "      <td>56</td>\n",
       "      <td>41591</td>\n",
       "      <td>8</td>\n",
       "      <td>0</td>\n",
       "      <td>12</td>\n",
       "      <td>2.00</td>\n",
       "    </tr>\n",
       "    <tr>\n",
       "      <th>379223</th>\n",
       "      <td>61</td>\n",
       "      <td>12295</td>\n",
       "      <td>2</td>\n",
       "      <td>1</td>\n",
       "      <td>9</td>\n",
       "      <td>7.00</td>\n",
       "    </tr>\n",
       "    <tr>\n",
       "      <th>477427</th>\n",
       "      <td>68</td>\n",
       "      <td>96594</td>\n",
       "      <td>3</td>\n",
       "      <td>3</td>\n",
       "      <td>10</td>\n",
       "      <td>30.00</td>\n",
       "    </tr>\n",
       "    <tr>\n",
       "      <th>223998</th>\n",
       "      <td>75</td>\n",
       "      <td>106387</td>\n",
       "      <td>1</td>\n",
       "      <td>5</td>\n",
       "      <td>19</td>\n",
       "      <td>0.00</td>\n",
       "    </tr>\n",
       "    <tr>\n",
       "      <th>309748</th>\n",
       "      <td>80</td>\n",
       "      <td>190599</td>\n",
       "      <td>16</td>\n",
       "      <td>3</td>\n",
       "      <td>13</td>\n",
       "      <td>7.00</td>\n",
       "    </tr>\n",
       "    <tr>\n",
       "      <th>53222</th>\n",
       "      <td>81</td>\n",
       "      <td>186444</td>\n",
       "      <td>15</td>\n",
       "      <td>4</td>\n",
       "      <td>14</td>\n",
       "      <td>9.00</td>\n",
       "    </tr>\n",
       "    <tr>\n",
       "      <th>469066</th>\n",
       "      <td>83</td>\n",
       "      <td>41155</td>\n",
       "      <td>7</td>\n",
       "      <td>6</td>\n",
       "      <td>20</td>\n",
       "      <td>20.00</td>\n",
       "    </tr>\n",
       "    <tr>\n",
       "      <th>449838</th>\n",
       "      <td>99</td>\n",
       "      <td>108185</td>\n",
       "      <td>2</td>\n",
       "      <td>6</td>\n",
       "      <td>14</td>\n",
       "      <td>11.00</td>\n",
       "    </tr>\n",
       "    <tr>\n",
       "      <th>353537</th>\n",
       "      <td>114</td>\n",
       "      <td>91891</td>\n",
       "      <td>1</td>\n",
       "      <td>0</td>\n",
       "      <td>11</td>\n",
       "      <td>0.00</td>\n",
       "    </tr>\n",
       "    <tr>\n",
       "      <th>11490</th>\n",
       "      <td>131</td>\n",
       "      <td>34858</td>\n",
       "      <td>42</td>\n",
       "      <td>3</td>\n",
       "      <td>10</td>\n",
       "      <td>2.00</td>\n",
       "    </tr>\n",
       "    <tr>\n",
       "      <th>339903</th>\n",
       "      <td>142</td>\n",
       "      <td>8841</td>\n",
       "      <td>43</td>\n",
       "      <td>4</td>\n",
       "      <td>22</td>\n",
       "      <td>9.00</td>\n",
       "    </tr>\n",
       "    <tr>\n",
       "      <th>392941</th>\n",
       "      <td>143</td>\n",
       "      <td>130982</td>\n",
       "      <td>7</td>\n",
       "      <td>0</td>\n",
       "      <td>16</td>\n",
       "      <td>7.00</td>\n",
       "    </tr>\n",
       "  </tbody>\n",
       "</table>\n",
       "</div>"
      ],
      "text/plain": [
       "        order_id  user_id  order_number  order_dow  order_hour_of_day  \\\n",
       "115749         4   178520            36          1                  9   \n",
       "448097         9   139016            14          0                 19   \n",
       "306354        11   143742             4          1                 19   \n",
       "436240        19    83009             7          5                 17   \n",
       "457461        20   182912             1          6                 17   \n",
       "205236        31   201744             7          6                 15   \n",
       "433082        36    79431            23          6                 18   \n",
       "455776        48   172786             5          2                  0   \n",
       "189808        56    41591             8          0                 12   \n",
       "379223        61    12295             2          1                  9   \n",
       "477427        68    96594             3          3                 10   \n",
       "223998        75   106387             1          5                 19   \n",
       "309748        80   190599            16          3                 13   \n",
       "53222         81   186444            15          4                 14   \n",
       "469066        83    41155             7          6                 20   \n",
       "449838        99   108185             2          6                 14   \n",
       "353537       114    91891             1          0                 11   \n",
       "11490        131    34858            42          3                 10   \n",
       "339903       142     8841            43          4                 22   \n",
       "392941       143   130982             7          0                 16   \n",
       "\n",
       "        days_since_prior_order  \n",
       "115749                    7.00  \n",
       "448097                    5.00  \n",
       "306354                   23.00  \n",
       "436240                   13.00  \n",
       "457461                    0.00  \n",
       "205236                   14.00  \n",
       "433082                   30.00  \n",
       "455776                   30.00  \n",
       "189808                    2.00  \n",
       "379223                    7.00  \n",
       "477427                   30.00  \n",
       "223998                    0.00  \n",
       "309748                    7.00  \n",
       "53222                     9.00  \n",
       "469066                   20.00  \n",
       "449838                   11.00  \n",
       "353537                    0.00  \n",
       "11490                     2.00  \n",
       "339903                    9.00  \n",
       "392941                    7.00  "
      ]
     },
     "execution_count": 38,
     "metadata": {},
     "output_type": "execute_result"
    }
   ],
   "source": [
    "#inspeccionando a mayor profundidad los datos. viendo si hay relacion entre el numero de orden, el dia y la hora\n",
    "df_instacart_orders.sort_values(by=df_instacart_orders.columns[0]).iloc[:20,:]"
   ]
  },
  {
   "cell_type": "markdown",
   "metadata": {},
   "source": [
    "Me parecia que se podía repetir si era la n compra del día 3 a las 2, pero parece que no hay relación entre el número de orden y el dia o la hora"
   ]
  },
  {
   "cell_type": "markdown",
   "metadata": {},
   "source": [
    "No encuentro ningun motivo detras de su repeticion. Al ser duplicados, hay como simplemente hacer un drop."
   ]
  },
  {
   "cell_type": "code",
   "execution_count": 39,
   "metadata": {},
   "outputs": [],
   "source": [
    "df_instacart_orders = df_instacart_orders.drop_duplicates()\n"
   ]
  },
  {
   "cell_type": "code",
   "execution_count": 40,
   "metadata": {},
   "outputs": [
    {
     "name": "stdout",
     "output_type": "stream",
     "text": [
      "0\n"
     ]
    }
   ],
   "source": [
    "print(df_instacart_orders.duplicated().sum()) #no es necesario hacer solo a la columna del pk pq, como ya vimos\n",
    "#toda la fila esta repetida"
   ]
  },
  {
   "cell_type": "markdown",
   "metadata": {},
   "source": [
    "### Inconsistencias en los Tipos de Datos"
   ]
  },
  {
   "cell_type": "code",
   "execution_count": 41,
   "metadata": {
    "scrolled": true
   },
   "outputs": [
    {
     "name": "stdout",
     "output_type": "stream",
     "text": [
      "All elements in the column 'order_id' have the same data type: True\n",
      "All elements in the column 'user_id' have the same data type: True\n",
      "All elements in the column 'order_number' have the same data type: True\n",
      "All elements in the column 'order_dow' have the same data type: True\n",
      "All elements in the column 'order_hour_of_day' have the same data type: True\n",
      "All elements in the column 'days_since_prior_order' have the same data type: True\n"
     ]
    }
   ],
   "source": [
    "#viendo si hay inconsistencias en los datos\n",
    "check_type(df_instacart_orders)"
   ]
  },
  {
   "cell_type": "markdown",
   "metadata": {},
   "source": [
    "Con esta función queda claro que no hay ningún tipo de inconsistencia en los tipos de datos de esta tabla"
   ]
  },
  {
   "cell_type": "markdown",
   "metadata": {},
   "source": [
    "### Posibles Valores Atípicos"
   ]
  },
  {
   "cell_type": "code",
   "execution_count": 42,
   "metadata": {},
   "outputs": [
    {
     "name": "stdout",
     "output_type": "stream",
     "text": [
      "<bound method NDFrame.describe of         order_id  user_id  order_number  order_dow  order_hour_of_day  \\\n",
      "0        1515936   183418            11          6                 13   \n",
      "1        1690866   163593             5          5                 12   \n",
      "2        1454967    39980             4          5                 19   \n",
      "3        1768857    82516            56          0                 20   \n",
      "4        3007858   196724             2          4                 12   \n",
      "...          ...      ...           ...        ...                ...   \n",
      "478962   3210681     5617             5          1                 14   \n",
      "478963   3270802   112087             2          3                 13   \n",
      "478964    885349    82944            16          2                 11   \n",
      "478965    216274     4391             3          3                  8   \n",
      "478966   2071924     1730            18          1                 14   \n",
      "\n",
      "        days_since_prior_order  \n",
      "0                        30.00  \n",
      "1                         9.00  \n",
      "2                         2.00  \n",
      "3                        10.00  \n",
      "4                        17.00  \n",
      "...                        ...  \n",
      "478962                    7.00  \n",
      "478963                    6.00  \n",
      "478964                    6.00  \n",
      "478965                    8.00  \n",
      "478966                   15.00  \n",
      "\n",
      "[478952 rows x 6 columns]>\n"
     ]
    }
   ],
   "source": [
    "#viendo si hay valores atipicos\n",
    "print(df_instacart_orders.describe)"
   ]
  },
  {
   "cell_type": "markdown",
   "metadata": {},
   "source": [
    "No hay ningún valor atípico, todo se encuentra dentro de los parámetros esperados. Esto se puede evidenciar en el min y max, también por el tipo de datos que son. Todos numéricos."
   ]
  },
  {
   "cell_type": "markdown",
   "metadata": {},
   "source": [
    "### Estadísticos Descriptivos Básicos"
   ]
  },
  {
   "cell_type": "markdown",
   "metadata": {},
   "source": [
    "Es sencillo percatarse en cuales variables hay que hacer estadística descriptiva leyendo el nombre de las columnas."
   ]
  },
  {
   "cell_type": "code",
   "execution_count": 43,
   "metadata": {
    "scrolled": false
   },
   "outputs": [
    {
     "name": "stdout",
     "output_type": "stream",
     "text": [
      "             order_number  order_dow  order_hour_of_day  \\\n",
      "mean                17.16       2.78              13.45   \n",
      "std                 17.70       2.05               4.22   \n",
      "min                  1.00       0.00               0.00   \n",
      "max                100.00       6.00              23.00   \n",
      "var                313.45       4.19              17.85   \n",
      "median              11.00       3.00              13.00   \n",
      "skew                 1.81       0.15              -0.08   \n",
      "kurt                 3.47      -1.30              -0.01   \n",
      "mode                 1.00       0.00              10.00   \n",
      "quantile_25          5.00       1.00              10.00   \n",
      "quantile_50         11.00       3.00              13.00   \n",
      "quantile_75         23.00       5.00              16.00   \n",
      "\n",
      "             days_since_prior_order  \n",
      "mean                          10.43  \n",
      "std                            9.29  \n",
      "min                            0.00  \n",
      "max                           30.00  \n",
      "var                           86.34  \n",
      "median                         7.00  \n",
      "skew                           1.01  \n",
      "kurt                          -0.17  \n",
      "mode                          30.00  \n",
      "quantile_25                    4.00  \n",
      "quantile_50                    7.00  \n",
      "quantile_75                   15.00  \n"
     ]
    }
   ],
   "source": [
    "#usando la funcion que cree arriba para obtener los estadistios descriptivos basicos que me interesan\n",
    "print(agg_std(df_instacart_orders.iloc[:,2:]))"
   ]
  },
  {
   "cell_type": "markdown",
   "metadata": {},
   "source": [
    "Las variables con las cuales podemos obtener un insight usando estadística descriptiva son todas excepto, order_id y user_id. Centrándonos en days_since_prior_order, podemos observar que en promedio, la gente ordena cada 10 días. Me llama la atencion el valor tan alto de la desviación estandar, lo que nos indica que hay gran variabilidad en la frecuencia de pedidos. La mediana nos indica que la frecuencia en la que se realiza la mitad de los pedidos es menor o igual a 7 días, mientras que la moda nos indica que la frecuencia mas común para realizar pedidos es de 30 días. Un skewness con un valor de 1 nos indica que esta asimétricamente distribuido hacia la derecha. El valor de kurtosis nos indica que su distribución es mas plana que la normal."
   ]
  },
  {
   "cell_type": "markdown",
   "metadata": {},
   "source": [
    "En hour_of_day vemos una distribución más cercana a la normal (kurt casi 0), una desviación estándar no muy eleveada. La mediana (13) nos indica que la media aritmética (13.45) no esta muy lejos de la realidad y no hay muchos outliers, mientras que la moda nos indica que tenemos un gran flujo de clientes a -1 std de la media. El skewness, al tener un valor tan bajo, nos indica que los datos están muy cerca de ser simétricos."
   ]
  },
  {
   "cell_type": "markdown",
   "metadata": {},
   "source": [
    "En order_dow podemos ver que el promedio es casi 3, mientras que la desviacion estandar es 2. Esto nos indica que hay gran variabilidad en los dias que se realizan las ordenes. La mediana es bastante similar a la media lo que nos indica que la mitad de los pedidos se realizan antes o en el dia 3 (jueves). El valor no tan elevado de skew nos indica que esta un poco mas a la derecha que la normal, mientras que el valor tan elevado de kurtosis nos indica que su forma es bastante mas plana que la normal, lo que quiere decir que está distribuido más parejamente."
   ]
  },
  {
   "cell_type": "markdown",
   "metadata": {},
   "source": [
    "En order_number, nos damos cuenta que el promedio es casi 17, mientras que la desviación estándar es casi 18. Indicando que hay una variabilidad elevadísisma en la cantidad de ordenes por usuario. La mediana es menor que la media lo que nos indica que la mitad de las personas han realizado 11 o menos pedidos. La moda nos indica que tenemos una gran cantidad de clientes que han comprado por primera vez. El valor tan elevado de skew nos indica que esta más a la derecha que la normal, mientras que el valor tan elevado de kurtosis nos indica que su forma es bastante más elevada que la normal. Esto nos indica que hay más puntos más lejos de la media. Quizá sería una buena idea ver order_number con solo la compra más reciente."
   ]
  },
  {
   "cell_type": "markdown",
   "metadata": {},
   "source": [
    "Para entender bien la distribución de order_number, es una buena idea agruparlo por el user_id y usar el\n",
    "más reciente."
   ]
  },
  {
   "cell_type": "markdown",
   "metadata": {},
   "source": [
    "### Gráficos number_of_orders "
   ]
  },
  {
   "cell_type": "code",
   "execution_count": 44,
   "metadata": {
    "scrolled": true
   },
   "outputs": [
    {
     "name": "stdout",
     "output_type": "stream",
     "text": [
      "        user_id  order_id  order_number  order_dow  order_hour_of_day  \\\n",
      "0             2    738281             4          2                 10   \n",
      "1             4    329954             6          3                 12   \n",
      "2             5    157374             4          1                 18   \n",
      "3             6   1528013             4          3                 16   \n",
      "4             7   1175028            13          5                 15   \n",
      "...         ...       ...           ...        ...                ...   \n",
      "157432   206203    395144             2          0                 18   \n",
      "157433   206206   2986341            66          3                  9   \n",
      "157434   206207   1060980             8          0                 21   \n",
      "157435   206208    447879            18          3                 23   \n",
      "157436   206209    688306             4          1                 10   \n",
      "\n",
      "        days_since_prior_order  \n",
      "0                         8.00  \n",
      "1                        30.00  \n",
      "2                        19.00  \n",
      "3                        22.00  \n",
      "4                         5.00  \n",
      "...                        ...  \n",
      "157432                   30.00  \n",
      "157433                   14.00  \n",
      "157434                   30.00  \n",
      "157435                    9.00  \n",
      "157436                   30.00  \n",
      "\n",
      "[157437 rows x 6 columns]\n"
     ]
    }
   ],
   "source": [
    "#ordenando la data antes de agruparla para analizarla. Se hace esto para usar el mas reciente\n",
    "df_sorted = df_instacart_orders.sort_values(by=[\"user_id\", \"days_since_prior_order\"])\n",
    "df_last = df_sorted.groupby(\"user_id\").last().reset_index()\n",
    "print(df_last)"
   ]
  },
  {
   "cell_type": "code",
   "execution_count": 45,
   "metadata": {},
   "outputs": [
    {
     "name": "stdout",
     "output_type": "stream",
     "text": [
      "             order_number\n",
      "mean                10.54\n",
      "std                 11.64\n",
      "min                  1.00\n",
      "max                100.00\n",
      "var                135.39\n",
      "median               7.00\n",
      "skew                 2.80\n",
      "kurt                10.69\n",
      "mode                 2.00\n",
      "quantile_25          4.00\n",
      "quantile_50          7.00\n",
      "quantile_75         13.00\n"
     ]
    }
   ],
   "source": [
    "#viendo los estadistico descriptivos basicos con mi funcion\n",
    "print(agg_std(df_last.iloc[:,2:3]))"
   ]
  },
  {
   "cell_type": "markdown",
   "metadata": {},
   "source": [
    "Una vez agrupado por el user_id, la media de order_number se mantiene similar, mientras que la mediana pasa de 11 a 7, indicándonos que la verdadera frecuencia con la cual se realizan las compras es de 7 veces o menos. La moda sube por 1 dia, lo que nos indica que la frecuencia más comúnn es de 2 compras. La desviaciín estándar es mayor que la media, lo que apoya el hecho que se habia planteado sobre la gran variabilidad. La kurtosis y el skew aumentaron bastante, lo que indica que su distribucion esta bastante mas a la derecha y bastante mas puntiaguda de lo que pensabamos"
   ]
  },
  {
   "cell_type": "code",
   "execution_count": 46,
   "metadata": {
    "scrolled": false
   },
   "outputs": [
    {
     "data": {
      "image/png": "[encoded data removed]",
      "text/plain": [
       "<Figure size 640x480 with 1 Axes>"
      ]
     },
     "metadata": {},
     "output_type": "display_data"
    }
   ],
   "source": [
    "#usando la funcion que crea graficos de barra para visualizar mejor todo\n",
    "bar(df_last,2,\"Frecuencia de Number of Orders\", \"Number of Order\", \"Frecuencia\")"
   ]
  },
  {
   "cell_type": "markdown",
   "metadata": {},
   "source": [
    "Con este bar chart se vuelve más fácil de visualizar la moda y la frecuencia en general, con pocos valores en los números de orden más altos."
   ]
  },
  {
   "cell_type": "code",
   "execution_count": 47,
   "metadata": {
    "scrolled": false
   },
   "outputs": [
    {
     "data": {
      "image/png": "[encoded data removed]",
      "text/plain": [
       "<Figure size 600x400 with 1 Axes>"
      ]
     },
     "metadata": {},
     "output_type": "display_data"
    }
   ],
   "source": [
    "#usando la funcion que hace boxplots\n",
    "box(df_last,2,\"Distribución de Number of Orders\",\"Valores de Number of Orders\")"
   ]
  },
  {
   "cell_type": "markdown",
   "metadata": {},
   "source": [
    "El diagrama de cajas visualiza lo que ya se sospechaba, que iban a haber muchos outliers."
   ]
  },
  {
   "cell_type": "code",
   "execution_count": 48,
   "metadata": {
    "scrolled": false
   },
   "outputs": [
    {
     "data": {
      "image/png": "[encoded data removed]",
      "text/plain": [
       "<Figure size 600x400 with 1 Axes>"
      ]
     },
     "metadata": {},
     "output_type": "display_data"
    }
   ],
   "source": [
    "#usando la funcion que hace violin graphs (union entre histogramas y boxplots)\n",
    "violin(df_last,2,\"Distribución y Frecuencia de Number of Order\",\"Number of Order\")"
   ]
  },
  {
   "cell_type": "markdown",
   "metadata": {},
   "source": [
    "Este gráfico de violín permite ver de una manera más clara la distribución de los datos, en cuestión de frecuencia, forma y rango. La distribución se vuelve más evidente."
   ]
  },
  {
   "cell_type": "markdown",
   "metadata": {},
   "source": [
    "Adicionalmente, tiene sentido usar el df_last (todos unidos por el user_id y usando la compra más reciente) para days_since_prior_order."
   ]
  },
  {
   "cell_type": "markdown",
   "metadata": {},
   "source": [
    "### Gráficos days_since_prior_order"
   ]
  },
  {
   "cell_type": "code",
   "execution_count": 49,
   "metadata": {},
   "outputs": [
    {
     "name": "stdout",
     "output_type": "stream",
     "text": [
      "             days_since_prior_order\n",
      "mean                          10.43\n",
      "std                            9.29\n",
      "min                            0.00\n",
      "max                           30.00\n",
      "var                           86.34\n",
      "median                         7.00\n",
      "skew                           1.01\n",
      "kurt                          -0.17\n",
      "mode                          30.00\n",
      "quantile_25                    4.00\n",
      "quantile_50                    7.00\n",
      "quantile_75                   15.00\n"
     ]
    }
   ],
   "source": [
    "#viendo la estadistica descriptiva sin agrupar\n",
    "print(agg_std(df_instacart_orders.iloc[:,5:]))"
   ]
  },
  {
   "cell_type": "code",
   "execution_count": 50,
   "metadata": {},
   "outputs": [
    {
     "name": "stdout",
     "output_type": "stream",
     "text": [
      "             days_since_prior_order\n",
      "mean                          17.57\n",
      "std                           10.21\n",
      "min                            0.00\n",
      "max                           30.00\n",
      "var                          104.24\n",
      "median                        16.00\n",
      "skew                          -0.08\n",
      "kurt                          -1.40\n",
      "mode                          30.00\n",
      "quantile_25                    8.00\n",
      "quantile_50                   16.00\n",
      "quantile_75                   30.00\n"
     ]
    }
   ],
   "source": [
    "#viendo la estadistica descriptiva agrupando\n",
    "print(agg_std(df_last.iloc[:,5:]))"
   ]
  },
  {
   "cell_type": "markdown",
   "metadata": {},
   "source": [
    "Al usar la última orden de cada usuario, podemos observar que en promedio,la gente ordena cada 17 días. Esto es un aumento de 7 días. La desviación estándar ya no es tan grande en relación a la media como antes, pero sí sigue siendo elevada, indicando que aún hay una alta variabilidad. La mediana nos indica que la frecuencia en la que se realiza la mitad de los pedidos es menor o igual a 16 días, lo que es más del doble del valor anterior. La moda nos indica que la frecuencia más común para realizar pedidos es de 30 días, no ha habido ningún cambio. El skewness se ve reducido significativamente, indicando que es más simétrico, ligeramente distribuido hacia la izquierda. El valor de kurtosis es menor y nos indica que su distribucion es aun mas plana que la normal"
   ]
  },
  {
   "cell_type": "code",
   "execution_count": 51,
   "metadata": {},
   "outputs": [
    {
     "data": {
      "image/png": "[encoded data removed]",
      "text/plain": [
       "<Figure size 640x480 with 1 Axes>"
      ]
     },
     "metadata": {},
     "output_type": "display_data"
    }
   ],
   "source": [
    "#visualizando la frecuencia con el bar chart\n",
    "bar(df_last,5,\"Frecuencia de Days Since Prior Order\", \"Days Since Prior Order\",\"Frecuenai\")"
   ]
  },
  {
   "cell_type": "markdown",
   "metadata": {},
   "source": [
    "Al ver el bar chart se vuelve más sencillo visualizar la moda. Se vuelve rotundamente evidente que el número mas común es 30."
   ]
  },
  {
   "cell_type": "code",
   "execution_count": 52,
   "metadata": {},
   "outputs": [
    {
     "data": {
      "image/png": "[encoded data removed]",
      "text/plain": [
       "<Figure size 600x400 with 1 Axes>"
      ]
     },
     "metadata": {},
     "output_type": "display_data"
    }
   ],
   "source": [
    "#visualizando la distribucion con el box plot\n",
    "box(df_last,5,\"Distribución de Days Since Prior Order\",\"Valores de Days Since Prior Order\")"
   ]
  },
  {
   "cell_type": "markdown",
   "metadata": {},
   "source": [
    "Viendo el box plot, queda claro que no hay valores atípicos, lo que indica que no hay valores extremos."
   ]
  },
  {
   "cell_type": "code",
   "execution_count": 53,
   "metadata": {},
   "outputs": [
    {
     "data": {
      "image/png": "[encoded data removed]",
      "text/plain": [
       "<Figure size 600x400 with 1 Axes>"
      ]
     },
     "metadata": {},
     "output_type": "display_data"
    }
   ],
   "source": [
    "#uniendo ambas cosas con el violin plot\n",
    "violin(df_last,5,\"Distribución y Frecuencia de Days Since Prior Order\",\"Days Since Prior Order\")"
   ]
  },
  {
   "cell_type": "markdown",
   "metadata": {},
   "source": [
    "Con el violin plot queda calro como está la distribución de los datos."
   ]
  },
  {
   "cell_type": "markdown",
   "metadata": {},
   "source": [
    "### Gráficos order_dow"
   ]
  },
  {
   "cell_type": "code",
   "execution_count": 54,
   "metadata": {
    "scrolled": false
   },
   "outputs": [
    {
     "data": {
      "image/png": "[encoded data removed]",
      "text/plain": [
       "<Figure size 640x480 with 1 Axes>"
      ]
     },
     "metadata": {},
     "output_type": "display_data"
    }
   ],
   "source": [
    "#visualizando con un bar chart\n",
    "bar(df_instacart_orders,3,\"Frecuencia de Order Day of Week\",\"Order Day of Week\",\"Frecuencia\")"
   ]
  },
  {
   "cell_type": "markdown",
   "metadata": {},
   "source": [
    "Viendo el gráfico de barras es evidente que se realizan más compras en el dia 0 (la moda). Algo que me llama la atención es que no hay tantas compras en la media (el día 3)."
   ]
  },
  {
   "cell_type": "code",
   "execution_count": 55,
   "metadata": {},
   "outputs": [
    {
     "data": {
      "image/png": "[encoded data removed]",
      "text/plain": [
       "<Figure size 600x400 with 1 Axes>"
      ]
     },
     "metadata": {},
     "output_type": "display_data"
    }
   ],
   "source": [
    "#visualizando con un box plot\n",
    "box(df_instacart_orders,3,\"Distribución de Order Day of Week\", \"Valores de Order Day of Week\")"
   ]
  },
  {
   "cell_type": "markdown",
   "metadata": {},
   "source": [
    "Analizando el box plot podemos ver no hay ningún outlier ni ningún valor atípico"
   ]
  },
  {
   "cell_type": "code",
   "execution_count": 56,
   "metadata": {},
   "outputs": [
    {
     "data": {
      "image/png": "[encoded data removed]",
      "text/plain": [
       "<Figure size 600x400 with 1 Axes>"
      ]
     },
     "metadata": {},
     "output_type": "display_data"
    }
   ],
   "source": [
    "#visualizando con un violin plot\n",
    "violin(df_instacart_orders,3,\"Distribución y Frecuencia de Order Days of Week\", \"Order Days of Week\")"
   ]
  },
  {
   "cell_type": "markdown",
   "metadata": {},
   "source": [
    "Viendo el violin plot se vuelve evinte que al ser una variable discreta, es de esperarse esos \"huecos\" que presenta. Se evidencia más la distribución y la carencia de outliers."
   ]
  },
  {
   "cell_type": "markdown",
   "metadata": {},
   "source": [
    "### Gráficos order_hour_of_day"
   ]
  },
  {
   "cell_type": "code",
   "execution_count": 57,
   "metadata": {
    "scrolled": false
   },
   "outputs": [
    {
     "data": {
      "image/png": "[encoded data removed]",
      "text/plain": [
       "<Figure size 640x480 with 1 Axes>"
      ]
     },
     "metadata": {},
     "output_type": "display_data"
    }
   ],
   "source": [
    "#visualizando con un bar chart\n",
    "bar(df_instacart_orders,4,\"Frecuencia de Order Hour of Day\",\"Order Hour of Day\",\"Frecuencia\")"
   ]
  },
  {
   "cell_type": "markdown",
   "metadata": {},
   "source": [
    "Al ver el bar chart queda claro el patrón de compra de las personas que realizan la mayor cantidad de compras a las horas de la mitad del día. En la madrugada hay muy pocas compras, como es de esperarse."
   ]
  },
  {
   "cell_type": "code",
   "execution_count": 58,
   "metadata": {},
   "outputs": [
    {
     "data": {
      "image/png": "[encoded data removed]",
      "text/plain": [
       "<Figure size 600x400 with 1 Axes>"
      ]
     },
     "metadata": {},
     "output_type": "display_data"
    }
   ],
   "source": [
    "#visualiando con un boxplot\n",
    "box(df_instacart_orders,4,\"Distribución de Order Hour of Day\", \"Valores de Order Hour of Day\")"
   ]
  },
  {
   "cell_type": "markdown",
   "metadata": {},
   "source": [
    "Al analizar el box plot se revela que hay un par de outliers, aquellos que compran en la madrugada."
   ]
  },
  {
   "cell_type": "code",
   "execution_count": 59,
   "metadata": {
    "scrolled": false
   },
   "outputs": [
    {
     "data": {
      "image/png": "[encoded data removed]",
      "text/plain": [
       "<Figure size 600x400 with 1 Axes>"
      ]
     },
     "metadata": {},
     "output_type": "display_data"
    }
   ],
   "source": [
    "#visualiando con un violin plot\n",
    "violin(df_instacart_orders,4,\"Distribución y Frecuencia de Order Hour of Day\", \"Order Hour of Day\")"
   ]
  },
  {
   "cell_type": "markdown",
   "metadata": {},
   "source": [
    "Con el violin plot es más evidente la distribución y la densidad de la misma. Se nota como va bajando el flujo de personas a mas lejos se este de la mitad del día"
   ]
  },
  {
   "cell_type": "markdown",
   "metadata": {},
   "source": [
    "### Conclusión"
   ]
  },
  {
   "cell_type": "markdown",
   "metadata": {},
   "source": [
    "2 atributos están hacia la derecha y no tienen una forma muy similar a la normal. Los valores repetidos no tienen ninguna causa encontrada. Dependiendo de qué se va a hacer con los datos se debería considerar normalizar y estandarizar. Esto sería especialmente importante para ML."
   ]
  },
  {
   "cell_type": "markdown",
   "metadata": {},
   "source": [
    "## ORDER_PRODUCTS"
   ]
  },
  {
   "cell_type": "code",
   "execution_count": 60,
   "metadata": {
    "scrolled": true
   },
   "outputs": [
    {
     "name": "stdout",
     "output_type": "stream",
     "text": [
      "         order_id  product_id  add_to_cart_order  reordered\n",
      "0         2141543       11440              17.00          0\n",
      "1          567889        1560               1.00          1\n",
      "2         2261212       26683               1.00          1\n",
      "3          491251        8670              35.00          1\n",
      "4         2571142        1940               5.00          1\n",
      "...           ...         ...                ...        ...\n",
      "4545002    577211       15290              12.00          1\n",
      "4545003   1219554       21914               9.00          0\n",
      "4545004    692640       47766               4.00          1\n",
      "4545005    319435         691               8.00          1\n",
      "4545006   1398151       28733               9.00          0\n",
      "\n",
      "[4545007 rows x 4 columns]\n"
     ]
    }
   ],
   "source": [
    "#viendo que hay en order_products\n",
    "print(df_order_products)"
   ]
  },
  {
   "cell_type": "markdown",
   "metadata": {},
   "source": [
    "Podemos ver que df_order_products contiene 4545007 filas y 4 columnas."
   ]
  },
  {
   "cell_type": "markdown",
   "metadata": {},
   "source": [
    "### Valores nulos"
   ]
  },
  {
   "cell_type": "code",
   "execution_count": 61,
   "metadata": {
    "scrolled": true
   },
   "outputs": [
    {
     "name": "stdout",
     "output_type": "stream",
     "text": [
      "order_id               0\n",
      "product_id             0\n",
      "add_to_cart_order    836\n",
      "reordered              0\n",
      "dtype: int64\n"
     ]
    }
   ],
   "source": [
    "#viendo si hay valores nulos\n",
    "print(df_order_products.isnull().sum())"
   ]
  },
  {
   "cell_type": "markdown",
   "metadata": {},
   "source": [
    "Vemos que existen valores nulos en add_to_cart_order, tenemos que averiguar por qué."
   ]
  },
  {
   "cell_type": "code",
   "execution_count": 62,
   "metadata": {},
   "outputs": [],
   "source": [
    "#haciendo un df de valores nulos para analizar\n",
    "df_order_products_null = df_order_products[df_order_products.isnull().any(axis=1)]\n"
   ]
  },
  {
   "cell_type": "code",
   "execution_count": 63,
   "metadata": {},
   "outputs": [
    {
     "name": "stdout",
     "output_type": "stream",
     "text": [
      "         order_id  product_id  add_to_cart_order  reordered\n",
      "3590777   1386261          10                NaN          1\n",
      "3495525    936852          34                NaN          1\n",
      "757127    2926893          34                NaN          0\n",
      "3760909   3383594          63                NaN          0\n",
      "2744369   1800005          79                NaN          0\n",
      "...           ...         ...                ...        ...\n",
      "3965219     61355       49325                NaN          0\n",
      "3028521    264710       49474                NaN          0\n",
      "848316    1220886       49621                NaN          0\n",
      "3217453   1968313       49644                NaN          0\n",
      "3351043    293169       49683                NaN          0\n",
      "\n",
      "[836 rows x 4 columns]\n"
     ]
    }
   ],
   "source": [
    "##viendo si hay un patron en estos valores nulos\n",
    "print(df_order_products_null.sort_values(by=df_order_products_null.columns[1]))"
   ]
  },
  {
   "cell_type": "markdown",
   "metadata": {},
   "source": [
    "No parece haber un patrón claro. Quizá si vemos en cada orden. Estoy bajo la impresión de que podría ser que retiras el producto del carrito y te da NaN. Pero como ordenaste te da la oportunidad de hacer reorder. Quizá todos estos productos estén en el \"missing\" department. Hay muchas opciones."
   ]
  },
  {
   "cell_type": "code",
   "execution_count": 64,
   "metadata": {
    "scrolled": false
   },
   "outputs": [
    {
     "name": "stdout",
     "output_type": "stream",
     "text": [
      "order_id\n",
      "61355      63\n",
      "3308010    51\n",
      "2136777    44\n",
      "171934     40\n",
      "1959075    34\n",
      "           ..\n",
      "180546      2\n",
      "1308785     2\n",
      "2979697     2\n",
      "1625713     2\n",
      "1529171     2\n",
      "Name: count, Length: 61, dtype: int64\n"
     ]
    }
   ],
   "source": [
    "#haciendo un conteo de productos nulos por orden para ver si hay algun patron\n",
    "null_orders = df_order_products_null.iloc[:, 0].value_counts()[df_order_products_null.iloc[:, 0].value_counts() > 1]\n",
    "\n",
    "print(null_orders)"
   ]
  },
  {
   "cell_type": "code",
   "execution_count": 65,
   "metadata": {
    "scrolled": false
   },
   "outputs": [
    {
     "name": "stdout",
     "output_type": "stream",
     "text": [
      "                     add_to_cart_order  reordered\n",
      "order_id product_id                              \n",
      "9310     25753                     NaN          0\n",
      "61355    1087                      NaN          0\n",
      "         1203                      NaN          0\n",
      "         1700                      NaN          0\n",
      "         3390                      NaN          0\n",
      "...                                ...        ...\n",
      "3383594  63                        NaN          0\n",
      "         15076                     NaN          0\n",
      "         15424                     NaN          1\n",
      "         46710                     NaN          0\n",
      "         49144                     NaN          1\n",
      "\n",
      "[836 rows x 2 columns]\n",
      "              product_id\n",
      "mean            24287.69\n",
      "std             14601.11\n",
      "min                10.00\n",
      "max             49683.00\n",
      "var         213192407.00\n",
      "median          24053.50\n",
      "skew                0.05\n",
      "kurt               -1.22\n",
      "mode            11193.00\n",
      "quantile_25     11193.00\n",
      "quantile_50     24053.50\n",
      "quantile_75     37054.50\n"
     ]
    }
   ],
   "source": [
    "#agrupando orden y producto para ver si hay algun patron\n",
    "\n",
    "df_combined_order_product = df_order_products_null.groupby(by=[\"order_id\",\"product_id\"]).last()\n",
    "\n",
    "print(df_combined_order_product)\n",
    "#viendo la moda a ver si ese producto tiene algo\n",
    "print(agg_std(df_order_products_null.iloc[:,1:2]))"
   ]
  },
  {
   "cell_type": "code",
   "execution_count": 66,
   "metadata": {},
   "outputs": [
    {
     "name": "stdout",
     "output_type": "stream",
     "text": [
      "       product_id                          product_name  aisle_id  \\\n",
      "11192       11193  Ancient Grain Blueberry Hemp Granola        57   \n",
      "\n",
      "       department_id  \n",
      "11192             14  \n"
     ]
    }
   ],
   "source": [
    "#viendo el producto que mas aparece\n",
    "print(df_products[df_products[\"product_id\"]==11193])\n"
   ]
  },
  {
   "cell_type": "markdown",
   "metadata": {},
   "source": [
    "No parece haber ningún patrón. No pertenece a ningun lugar raro. Veamos que otros productos hay"
   ]
  },
  {
   "cell_type": "code",
   "execution_count": 67,
   "metadata": {
    "scrolled": true
   },
   "outputs": [
    {
     "name": "stdout",
     "output_type": "stream",
     "text": [
      "product_id\n",
      "40709    4\n",
      "27555    4\n",
      "21137    4\n",
      "24852    4\n",
      "11193    4\n",
      "        ..\n",
      "26604    2\n",
      "16290    2\n",
      "6187     2\n",
      "43908    2\n",
      "13457    2\n",
      "Name: count, Length: 98, dtype: int64\n"
     ]
    }
   ],
   "source": [
    "#haciendo un contedo de los nulos agrupando por product id\n",
    "print(df_order_products_null.iloc[:, 1].value_counts()[df_order_products_null.iloc[:, 1].value_counts() > 1])"
   ]
  },
  {
   "cell_type": "markdown",
   "metadata": {},
   "source": [
    "Son muchisimos productos distintos. Existe la posibilidad de que estos valores nulos pertenezcan a ese \"missing\" department."
   ]
  },
  {
   "cell_type": "code",
   "execution_count": 68,
   "metadata": {
    "scrolled": false
   },
   "outputs": [],
   "source": [
    "#agrupado de aisles para ver si es eso\n",
    "df_repeat = df_products[df_products.iloc[:,0].isin(df_order_products_null.iloc[:,1])].sort_values(by=df_products.columns[2])"
   ]
  },
  {
   "cell_type": "code",
   "execution_count": 69,
   "metadata": {},
   "outputs": [
    {
     "name": "stdout",
     "output_type": "stream",
     "text": [
      "       product_id  aisle_id  department_id\n",
      "23718       23719         1             20\n",
      "43036       43037         1             20\n",
      "49643       49644         2             16\n",
      "10423       10424         2             16\n",
      "4349         4350         2             16\n",
      "...           ...       ...            ...\n",
      "40172       40173       131              9\n",
      "27436       27437       131              9\n",
      "32733       32734       131              9\n",
      "49187       49188       132             11\n",
      "47268       47269       133             11\n",
      "\n",
      "[720 rows x 3 columns]\n"
     ]
    }
   ],
   "source": [
    "#viendo si es el aisle o el department\n",
    "print(df_repeat.iloc[:,[0,2,3]].sort_values(by=\"aisle_id\"))"
   ]
  },
  {
   "cell_type": "code",
   "execution_count": 70,
   "metadata": {},
   "outputs": [
    {
     "data": {
      "image/png": "[encoded data removed]",
      "text/plain": [
       "<Figure size 640x480 with 1 Axes>"
      ]
     },
     "metadata": {},
     "output_type": "display_data"
    }
   ],
   "source": [
    "bar(df_repeat,2,\"Frecuencia de Number of Orders\", \"Number of Order\", \"Frecuencia\")"
   ]
  },
  {
   "cell_type": "code",
   "execution_count": 71,
   "metadata": {},
   "outputs": [
    {
     "data": {
      "image/png": "[encoded data removed]",
      "text/plain": [
       "<Figure size 640x480 with 1 Axes>"
      ]
     },
     "metadata": {},
     "output_type": "display_data"
    }
   ],
   "source": [
    "bar(df_repeat,3,\"Frecuencia de Number of Orders\", \"Number of Order\", \"Frecuencia\")"
   ]
  },
  {
   "cell_type": "code",
   "execution_count": 72,
   "metadata": {
    "scrolled": false
   },
   "outputs": [
    {
     "name": "stdout",
     "output_type": "stream",
     "text": [
      "    aisle_id  product_id                                   product_name  \\\n",
      "0          1       43037                         Garden Minestrone Soup   \n",
      "1          2        7515                    Spinach And Ricotta Ravioli   \n",
      "2          3        1452  Lean Protein & Fiber Bar Honey Drizzle Peanut   \n",
      "3          4       42110    Organic Macaroni Shells & Real Aged Cheddar   \n",
      "4          5       41302                           Honey Barbecue Sauce   \n",
      "..       ...         ...                                            ...   \n",
      "93       129       44596                            Vegetable Egg Rolls   \n",
      "94       130        4634                           Oatmeal Variety Pack   \n",
      "95       131       32734                                      Spaghetti   \n",
      "96       132       49188                   Lash and Lid Make-Up Remover   \n",
      "97       133       47269       Arnicare Gel & 80 ct Homeopathic Pellets   \n",
      "\n",
      "    department_id  \n",
      "0              20  \n",
      "1              16  \n",
      "2              19  \n",
      "3               9  \n",
      "4              13  \n",
      "..            ...  \n",
      "93              1  \n",
      "94             14  \n",
      "95              9  \n",
      "96             11  \n",
      "97             11  \n",
      "\n",
      "[98 rows x 4 columns]\n"
     ]
    }
   ],
   "source": [
    "#agrupando por aisle\n",
    "df_group = df_repeat.groupby(\"aisle_id\").last().reset_index()\n",
    "print(df_group)"
   ]
  },
  {
   "cell_type": "code",
   "execution_count": 73,
   "metadata": {
    "scrolled": false
   },
   "outputs": [
    {
     "name": "stdout",
     "output_type": "stream",
     "text": [
      "aisle_id\n",
      "3      40\n",
      "83     34\n",
      "31     34\n",
      "94     30\n",
      "120    29\n",
      "       ..\n",
      "40      2\n",
      "41      2\n",
      "36      2\n",
      "53      2\n",
      "65      2\n",
      "Name: count, Length: 80, dtype: int64\n"
     ]
    }
   ],
   "source": [
    "#haciendo un conteo de las aisles que se repiten\n",
    "print(df_repeat.iloc[:, 2].value_counts()[df_repeat.iloc[:, 2].value_counts() > 1])"
   ]
  },
  {
   "cell_type": "markdown",
   "metadata": {},
   "source": [
    "Pertenecen a una gran cantidad de departamentos y de aisles, no hay patrón en estos valores nulos. A mí parecer, estos serian items que se pusieron en el carrito y despues se retiraron. Quizá ya no hubo stock. Son aleatorios, es mejor eliminar estos valores nulos. \n",
    "\n",
    "Pd: Erick, sé que dijiste que había patrón y que ponga -1, pero no lo hallo entonces no me parece muy \"justo\" poner el -1."
   ]
  },
  {
   "cell_type": "code",
   "execution_count": 74,
   "metadata": {},
   "outputs": [],
   "source": [
    "#botando los valores nulos\n",
    "df_order_products.dropna(inplace=True)"
   ]
  },
  {
   "cell_type": "code",
   "execution_count": 75,
   "metadata": {
    "scrolled": false
   },
   "outputs": [
    {
     "name": "stdout",
     "output_type": "stream",
     "text": [
      "order_id             0\n",
      "product_id           0\n",
      "add_to_cart_order    0\n",
      "reordered            0\n",
      "dtype: int64\n"
     ]
    }
   ],
   "source": [
    "#comprobando que ya no hayan valores nulos\n",
    "print(df_order_products.isnull().sum())"
   ]
  },
  {
   "cell_type": "markdown",
   "metadata": {},
   "source": [
    "Ya no existen valores nulos en la tabla order_products"
   ]
  },
  {
   "cell_type": "markdown",
   "metadata": {},
   "source": [
    "### Registros Duplicados"
   ]
  },
  {
   "cell_type": "code",
   "execution_count": 76,
   "metadata": {},
   "outputs": [
    {
     "name": "stdout",
     "output_type": "stream",
     "text": [
      "There are 4094125 duplicates in the order_id\n",
      "There are 4498599 duplicates in the product_id\n",
      "There are 4544107 duplicates in the add_to_cart_order\n",
      "There are 4544169 duplicates in the reordered\n"
     ]
    }
   ],
   "source": [
    "#viendo si hay registros duplicados\n",
    "check_duplicate(df_order_products)"
   ]
  },
  {
   "cell_type": "markdown",
   "metadata": {},
   "source": [
    "Claramente hay registros duplicados en cada columna, pero en este caso tenemos que ver si hay duplicados en la combinación de order_id y product_id."
   ]
  },
  {
   "cell_type": "code",
   "execution_count": 77,
   "metadata": {},
   "outputs": [
    {
     "name": "stdout",
     "output_type": "stream",
     "text": [
      "0\n"
     ]
    }
   ],
   "source": [
    "#viendo si hay registros duplicados en la combinacion de las fks\n",
    "print(df_order_products[df_order_products.columns[:2]].duplicated().sum())"
   ]
  },
  {
   "cell_type": "markdown",
   "metadata": {},
   "source": [
    "No hay duplicados en la combinacion de order_id y product_id."
   ]
  },
  {
   "cell_type": "code",
   "execution_count": 78,
   "metadata": {
    "scrolled": true
   },
   "outputs": [
    {
     "name": "stdout",
     "output_type": "stream",
     "text": [
      "0\n"
     ]
    }
   ],
   "source": [
    "#viendo si hay registros duplicados a lo largo de las columnas\n",
    "print(df_order_products.duplicated().sum())"
   ]
  },
  {
   "cell_type": "markdown",
   "metadata": {},
   "source": [
    "Tampoco hay entradas que sean iguales en todas las columnas."
   ]
  },
  {
   "cell_type": "markdown",
   "metadata": {},
   "source": [
    "### Inconsistencias en los Tipos de Datos"
   ]
  },
  {
   "cell_type": "code",
   "execution_count": 79,
   "metadata": {
    "scrolled": true
   },
   "outputs": [
    {
     "name": "stdout",
     "output_type": "stream",
     "text": [
      "All elements in the column 'order_id' have the same data type: True\n",
      "All elements in the column 'product_id' have the same data type: True\n",
      "All elements in the column 'add_to_cart_order' have the same data type: True\n",
      "All elements in the column 'reordered' have the same data type: True\n"
     ]
    }
   ],
   "source": [
    "#viendo si hay inconsistencias en los tipos de datos\n",
    "check_type(df_order_products)"
   ]
  },
  {
   "cell_type": "markdown",
   "metadata": {},
   "source": [
    "Todas las columnas tienen el mismo tipo de datos"
   ]
  },
  {
   "cell_type": "markdown",
   "metadata": {},
   "source": [
    "### Posibles Valores Atípicos"
   ]
  },
  {
   "cell_type": "code",
   "execution_count": 80,
   "metadata": {
    "scrolled": true
   },
   "outputs": [
    {
     "name": "stdout",
     "output_type": "stream",
     "text": [
      "        order_id  product_id  add_to_cart_order  reordered\n",
      "count 4544171.00  4544171.00         4544171.00 4544171.00\n",
      "mean  1711196.72    25581.07               8.35       0.59\n",
      "std    985082.72    14095.41               7.08       0.49\n",
      "min         4.00        1.00               1.00       0.00\n",
      "25%    860840.00    13535.00               3.00       0.00\n",
      "50%   1711525.00    25272.00               6.00       1.00\n",
      "75%   2561355.00    37935.00              11.00       1.00\n",
      "max   3421079.00    49694.00              64.00       1.00\n"
     ]
    }
   ],
   "source": [
    "#viendo si hay valores atipicos\n",
    "print(df_order_products.describe())"
   ]
  },
  {
   "cell_type": "markdown",
   "metadata": {},
   "source": [
    "Viendo los minimos y los maximos de los valores que no son ids, claramente no hay valores atipicos"
   ]
  },
  {
   "cell_type": "markdown",
   "metadata": {},
   "source": [
    "### Estadísticos Descriptivos Básicos"
   ]
  },
  {
   "cell_type": "code",
   "execution_count": 81,
   "metadata": {},
   "outputs": [
    {
     "name": "stdout",
     "output_type": "stream",
     "text": [
      "             add_to_cart_order  reordered\n",
      "mean                      8.35       0.59\n",
      "std                       7.08       0.49\n",
      "min                       1.00       0.00\n",
      "max                      64.00       1.00\n",
      "var                      50.13       0.24\n",
      "median                    6.00       1.00\n",
      "skew                      1.70      -0.37\n",
      "kurt                      4.12      -1.86\n",
      "mode                      1.00       1.00\n",
      "quantile_25               3.00       0.00\n",
      "quantile_50               6.00       1.00\n",
      "quantile_75              11.00       1.00\n"
     ]
    }
   ],
   "source": [
    "#viendo los estadisticos descriptivos con la funcion que hice\n",
    "print(agg_std(df_order_products.iloc[:,2:]))"
   ]
  },
  {
   "cell_type": "markdown",
   "metadata": {},
   "source": [
    "Fijándonos en add_to_cart_order podemos observar que en promedio, la gente tiene 8 productos en su orden. La desviación estándar es grande en relación a la media lo que indica que hay una alta variabilidad.La mediana nos indica que la frecuencia en la que gente agrega productos a su orden es menor o igual a 6 veces. La moda nos indica que la frecuencia mas común para agregar una prodcutos a su orden es de 1 vez. El skewness nos indica que es asimétrico hacia la derecha y la kurtosis nos indica que su distribución mas puntiaguda que la normal."
   ]
  },
  {
   "cell_type": "markdown",
   "metadata": {},
   "source": [
    "Con respecto a reordered, al ser binaria, vemos que el 59% de las personas (usando la media) utiliza reordered. La desviación estándar es bastante eleveada en relación a la media, lo que indica gran variabilidad La mediana y la moda son 1, lo que tiene sentido para una variable bianria. El skew nos indica que es ligeramente asimétrico hacia la izquierda en relación a la normal. La kurtosis nos indica que es más plana que la normal."
   ]
  },
  {
   "cell_type": "markdown",
   "metadata": {},
   "source": [
    "### Gráficos de add_to_cart_order"
   ]
  },
  {
   "cell_type": "code",
   "execution_count": 82,
   "metadata": {},
   "outputs": [
    {
     "data": {
      "image/png": "[encoded data removed]",
      "text/plain": [
       "<Figure size 640x480 with 1 Axes>"
      ]
     },
     "metadata": {},
     "output_type": "display_data"
    }
   ],
   "source": [
    "#visualizando con un bar chart\n",
    "bar(df_order_products,2,\"Frecuencia de Add to Cart Order\",\"Add to Cart Order\",\"Frecuencia\")"
   ]
  },
  {
   "cell_type": "markdown",
   "metadata": {},
   "source": [
    "Es mas sencillo visualizar la frecuencia con este gráfico de barras, es bastante puntiagudo"
   ]
  },
  {
   "cell_type": "code",
   "execution_count": 83,
   "metadata": {},
   "outputs": [
    {
     "data": {
      "image/png": "[encoded data removed]",
      "text/plain": [
       "<Figure size 600x400 with 1 Axes>"
      ]
     },
     "metadata": {},
     "output_type": "display_data"
    }
   ],
   "source": [
    "#visualizando con un box plot\n",
    "box(df_order_products,2,\"Distribución de Add to Cart Order\", \"Valores de Add to Cart Order\")"
   ]
  },
  {
   "cell_type": "markdown",
   "metadata": {},
   "source": [
    "Viendo el box plot, queda claro que hay una gran cantidad de outliers, gente que compra mucho de un producto. Estos podrian ser locales comerciales o quiza gente alistandose para una fiesta."
   ]
  },
  {
   "cell_type": "code",
   "execution_count": 84,
   "metadata": {},
   "outputs": [
    {
     "data": {
      "image/png": "[encoded data removed]",
      "text/plain": [
       "<Figure size 600x400 with 1 Axes>"
      ]
     },
     "metadata": {},
     "output_type": "display_data"
    }
   ],
   "source": [
    "#visualizando con un violin plot\n",
    "violin(df_order_products,2,\"Distribución y Frecuencia de Add to Cart Order\",\"Add to Cart Order\")"
   ]
  },
  {
   "cell_type": "markdown",
   "metadata": {},
   "source": [
    "Con este violin plot se vuelve mas evidente la distribución y la densidad de add_to_cart_order. Es sencillo percatarse de la pocas veces que sucede cada valor de los outliers."
   ]
  },
  {
   "cell_type": "markdown",
   "metadata": {},
   "source": [
    "### Gráficos de reordered"
   ]
  },
  {
   "cell_type": "markdown",
   "metadata": {},
   "source": [
    "No tiene mucho sentido hacer mas que un box plot para esta variable binaria."
   ]
  },
  {
   "cell_type": "code",
   "execution_count": 85,
   "metadata": {},
   "outputs": [
    {
     "data": {
      "image/png": "[encoded data removed]",
      "text/plain": [
       "<Figure size 640x480 with 1 Axes>"
      ]
     },
     "metadata": {},
     "output_type": "display_data"
    }
   ],
   "source": [
    "#visualizando con un histograma (se visualiza mejor asi que con un bar chart)\n",
    "hist(df_order_products,3,10,\"Frecuencia de Reordered\",\"Reordered\",\"Frecuencia\")"
   ]
  },
  {
   "cell_type": "markdown",
   "metadata": {},
   "source": [
    "Viendo la frecuencia se vuelve mas evidente la distribución, es sencillo percatarse que el 1 en reordered es el mas común"
   ]
  },
  {
   "cell_type": "markdown",
   "metadata": {},
   "source": [
    "### Conclusión"
   ]
  },
  {
   "cell_type": "markdown",
   "metadata": {},
   "source": [
    "Eliminar las filas null ya que son aleatorias."
   ]
  },
  {
   "cell_type": "markdown",
   "metadata": {},
   "source": [
    "## PRODUCTS"
   ]
  },
  {
   "cell_type": "code",
   "execution_count": 86,
   "metadata": {},
   "outputs": [
    {
     "name": "stdout",
     "output_type": "stream",
     "text": [
      "       product_id                                       product_name  \\\n",
      "0               1                         Chocolate Sandwich Cookies   \n",
      "1               2                                   All-Seasons Salt   \n",
      "2               3               Robust Golden Unsweetened Oolong Tea   \n",
      "3               4  Smart Ones Classic Favorites Mini Rigatoni Wit...   \n",
      "4               5                          Green Chile Anytime Sauce   \n",
      "...           ...                                                ...   \n",
      "49689       49690                      HIGH PERFORMANCE ENERGY DRINK   \n",
      "49690       49691                      ORIGINAL PANCAKE & WAFFLE MIX   \n",
      "49691       49692    ORGANIC INSTANT OATMEAL LIGHT MAPLE BROWN SUGAR   \n",
      "49692       49693                             SPRING WATER BODY WASH   \n",
      "49693       49694                            BURRITO- STEAK & CHEESE   \n",
      "\n",
      "       aisle_id  department_id  \n",
      "0            61             19  \n",
      "1           104             13  \n",
      "2            94              7  \n",
      "3            38              1  \n",
      "4             5             13  \n",
      "...         ...            ...  \n",
      "49689        64              7  \n",
      "49690       130             14  \n",
      "49691       130             14  \n",
      "49692       127             11  \n",
      "49693        38              1  \n",
      "\n",
      "[49694 rows x 4 columns]\n"
     ]
    }
   ],
   "source": [
    "#viendo que hay en df_products\n",
    "print(df_products)"
   ]
  },
  {
   "cell_type": "markdown",
   "metadata": {},
   "source": [
    "Podemos ver que el df_products contiene 49694 filas y 4 columnas."
   ]
  },
  {
   "cell_type": "markdown",
   "metadata": {},
   "source": [
    "### Valores nulos"
   ]
  },
  {
   "cell_type": "code",
   "execution_count": 87,
   "metadata": {
    "scrolled": true
   },
   "outputs": [
    {
     "name": "stdout",
     "output_type": "stream",
     "text": [
      "product_id          0\n",
      "product_name     1258\n",
      "aisle_id            0\n",
      "department_id       0\n",
      "dtype: int64\n"
     ]
    }
   ],
   "source": [
    "#viendo si hay valores nulos\n",
    "print(df_products.isnull().sum())"
   ]
  },
  {
   "cell_type": "markdown",
   "metadata": {},
   "source": [
    "Vemos que existen valores nulos en el nombre del producto. Averigüemos por qué."
   ]
  },
  {
   "cell_type": "code",
   "execution_count": 88,
   "metadata": {},
   "outputs": [],
   "source": [
    "#creando un df solo con los valores nulos\n",
    "df_products_null = df_products[df_products.isnull().any(axis=1)]"
   ]
  },
  {
   "cell_type": "code",
   "execution_count": 89,
   "metadata": {
    "scrolled": false
   },
   "outputs": [
    {
     "name": "stdout",
     "output_type": "stream",
     "text": [
      "       product_id product_name  aisle_id  department_id\n",
      "37             38         None       100             21\n",
      "71             72         None       100             21\n",
      "109           110         None       100             21\n",
      "296           297         None       100             21\n",
      "416           417         None       100             21\n",
      "...           ...          ...       ...            ...\n",
      "49552       49553         None       100             21\n",
      "49574       49575         None       100             21\n",
      "49640       49641         None       100             21\n",
      "49663       49664         None       100             21\n",
      "49668       49669         None       100             21\n",
      "\n",
      "[1258 rows x 4 columns]\n"
     ]
    }
   ],
   "source": [
    "#viendo el df de valores nulos\n",
    "print(df_products_null)"
   ]
  },
  {
   "cell_type": "markdown",
   "metadata": {},
   "source": [
    "Parece ser que todos los productos con nombres faltantes pertenecen al aisle 100 y al department 21\n",
    "tenemos que comprobar esto, pero primero, veamos si estos productos faltantes son la causa de los null que habían en order_products."
   ]
  },
  {
   "cell_type": "code",
   "execution_count": 90,
   "metadata": {
    "scrolled": true
   },
   "outputs": [
    {
     "name": "stdout",
     "output_type": "stream",
     "text": [
      "True\n"
     ]
    }
   ],
   "source": [
    "#viendo si todas las columnas de aisle_id son iguales\n",
    "print(df_products_null.iloc[:,2].nunique()==1)"
   ]
  },
  {
   "cell_type": "code",
   "execution_count": 91,
   "metadata": {},
   "outputs": [
    {
     "name": "stdout",
     "output_type": "stream",
     "text": [
      "True\n"
     ]
    }
   ],
   "source": [
    "#viendo si todas las columnas de department_id son iguales\n",
    "print(df_products_null.iloc[:,3].nunique()==1)"
   ]
  },
  {
   "cell_type": "markdown",
   "metadata": {},
   "source": [
    "Como podemos ver, department y aisles son iguales en todos los productos con un nombre nulo. Ahora tenemos que ver que tienen estos id en especial."
   ]
  },
  {
   "cell_type": "code",
   "execution_count": 92,
   "metadata": {},
   "outputs": [
    {
     "name": "stdout",
     "output_type": "stream",
     "text": [
      "aisle_id        100\n",
      "aisle       missing\n",
      "Name: 99, dtype: object\n"
     ]
    }
   ],
   "source": [
    "#viendo a que pertenece este aisle_id 100\n",
    "print(df_aisles.iloc[99,:])"
   ]
  },
  {
   "cell_type": "code",
   "execution_count": 93,
   "metadata": {
    "scrolled": true
   },
   "outputs": [
    {
     "name": "stdout",
     "output_type": "stream",
     "text": [
      "department_id         21\n",
      "department       missing\n",
      "Name: 20, dtype: object\n"
     ]
    }
   ],
   "source": [
    "# viendo a que pertenece este department_id 21\n",
    "print(df_departments.iloc[20,:])"
   ]
  },
  {
   "cell_type": "markdown",
   "metadata": {},
   "source": [
    "Podemos ver que en ambos casos, el nombre es \"missing\". Esto indicaría quiza productos que ya no se encuentran en stock. También deberíamos revisar si existen valores no nulos dentro del aisle 100 y el department 21."
   ]
  },
  {
   "cell_type": "code",
   "execution_count": 94,
   "metadata": {},
   "outputs": [],
   "source": [
    "#haciendo un df solo de productos que esten en el aisle 100\n",
    "df_products_100 = df_products[df_products.iloc[:,2]==100]"
   ]
  },
  {
   "cell_type": "code",
   "execution_count": 95,
   "metadata": {
    "scrolled": true
   },
   "outputs": [
    {
     "name": "stdout",
     "output_type": "stream",
     "text": [
      "Empty DataFrame\n",
      "Columns: [product_id, product_name, aisle_id, department_id]\n",
      "Index: []\n"
     ]
    }
   ],
   "source": [
    "#viendo si hay mas productos no nulos que esten en el aisle 100\n",
    "print(df_products_100[df_products_100.iloc[:,2].isin(~df_products_null.iloc[:,2])])"
   ]
  },
  {
   "cell_type": "code",
   "execution_count": 96,
   "metadata": {},
   "outputs": [],
   "source": [
    "#haciendo un df solo de productos que esten en el department 21\n",
    "df_products_21 = df_products[df_products.iloc[:,3]==21]"
   ]
  },
  {
   "cell_type": "code",
   "execution_count": 97,
   "metadata": {},
   "outputs": [
    {
     "name": "stdout",
     "output_type": "stream",
     "text": [
      "Empty DataFrame\n",
      "Columns: [product_id, product_name, aisle_id, department_id]\n",
      "Index: []\n"
     ]
    }
   ],
   "source": [
    "#viendo si hay mas productos no nulos que esten en el department 21\n",
    "print(df_products_21[df_products_21.iloc[:,3].isin(~df_products_null.iloc[:,3])])"
   ]
  },
  {
   "cell_type": "markdown",
   "metadata": {},
   "source": [
    "Como podemos ver, no existen valores no nulos que pertenezcan al department 21 o al aisle 100"
   ]
  },
  {
   "cell_type": "code",
   "execution_count": 101,
   "metadata": {
    "scrolled": false
   },
   "outputs": [
    {
     "name": "stdout",
     "output_type": "stream",
     "text": [
      "         order_id  product_id  add_to_cart_order  reordered\n",
      "4288303   2360582          38              10.00          0\n",
      "3632238   1528601          38              12.00          0\n",
      "1062620   2085048          38               5.00          0\n",
      "894533    1179176         110               3.00          1\n",
      "2685823    283278         110               6.00          0\n",
      "...           ...         ...                ...        ...\n",
      "1138298   1896944       49664               9.00          0\n",
      "31829     1224825       49664               4.00          0\n",
      "956006    1185971       49664              11.00          0\n",
      "3330871    246295       49664               7.00          0\n",
      "1694414     97559       49664               2.00          1\n",
      "\n",
      "[9546 rows x 4 columns]\n"
     ]
    }
   ],
   "source": [
    "#viendo si estos productos son comprados\n",
    "print(df_order_products[df_order_products.iloc[:,1].isin(df_products_null.iloc[:,0])].sort_values(by=df_order_products.columns[1]))"
   ]
  },
  {
   "cell_type": "markdown",
   "metadata": {},
   "source": [
    "Claramente estos products aún se pueden comprar, así que no hay como eliminarlos. Quizá sean productos sin un nombre definido. Al estar disponibles para comprar me parece apropiado combiar el valor nulo a \"Sin Nombre\"."
   ]
  },
  {
   "cell_type": "code",
   "execution_count": null,
   "metadata": {
    "scrolled": false
   },
   "outputs": [],
   "source": [
    "#rellenando los valores nulos con \"Sin Nombre\"\n",
    "df_products.fillna(\"Sin Nombre\", inplace=True)\n",
    "df_products[df_products.iloc[:,2]==100]"
   ]
  },
  {
   "cell_type": "code",
   "execution_count": null,
   "metadata": {},
   "outputs": [],
   "source": [
    "#comprobando que ya no hayan valores nulos\n",
    "print(df_products.isnull().sum())"
   ]
  },
  {
   "cell_type": "markdown",
   "metadata": {},
   "source": [
    "Una vez realizado el cambio, podemos ver que ya no hay registros nulos, estos han sido cambiados a \"Sin Nombre\"."
   ]
  },
  {
   "cell_type": "markdown",
   "metadata": {},
   "source": [
    "### Registros Duplicados"
   ]
  },
  {
   "cell_type": "code",
   "execution_count": null,
   "metadata": {
    "scrolled": true
   },
   "outputs": [],
   "source": [
    "#viendo que no hayan valores duplicados\n",
    "check_duplicate(df_products)"
   ]
  },
  {
   "cell_type": "markdown",
   "metadata": {},
   "source": [
    "Es normal que hayan valores duplicados en varias columnas. Lo que nos importa es el product_id, así que no hay verdaderos duplicados."
   ]
  },
  {
   "cell_type": "markdown",
   "metadata": {},
   "source": [
    "### Inconsistencias en Tipos de Datos"
   ]
  },
  {
   "cell_type": "code",
   "execution_count": null,
   "metadata": {
    "scrolled": true
   },
   "outputs": [],
   "source": [
    "#viendo que no hayan insconsistencias en los tipos de datos\n",
    "check_type(df_order_products)"
   ]
  },
  {
   "cell_type": "markdown",
   "metadata": {},
   "source": [
    "No hay inconsistencias en los tipos de los datos"
   ]
  },
  {
   "cell_type": "markdown",
   "metadata": {},
   "source": [
    "### Posibles Valores Atípicos"
   ]
  },
  {
   "cell_type": "code",
   "execution_count": null,
   "metadata": {},
   "outputs": [],
   "source": [
    "#usando el min y el max para determinar si hay posibles valores atipicos\n",
    "print(df_products.describe())"
   ]
  },
  {
   "cell_type": "markdown",
   "metadata": {},
   "source": [
    "No hay valores en las fks que no pertenezcan a los valores que referencian. Esto lo sabemos por el min y el max de\n",
    "estos valores y el hecho de que su tipo es int no da lugar a valores atípicos."
   ]
  },
  {
   "cell_type": "markdown",
   "metadata": {},
   "source": [
    "### Estadísticos Descriptivos Básicos"
   ]
  },
  {
   "cell_type": "markdown",
   "metadata": {},
   "source": [
    "En cuestión de estadistica descriptiva, se la puede realizar para determinar la distribución y frecuencia en aisles y departments."
   ]
  },
  {
   "cell_type": "code",
   "execution_count": null,
   "metadata": {},
   "outputs": [],
   "source": [
    "#viendo los estadisticos descriptivos basicos\n",
    "print(agg_std(df_products.iloc[:,2:]))"
   ]
  },
  {
   "cell_type": "markdown",
   "metadata": {},
   "source": [
    "La media no nos sirve mucho ya que no son ordinales. Es interesante ver que el aisle mas comun es el 100, el aisle titulada como \"missing\"."
   ]
  },
  {
   "cell_type": "markdown",
   "metadata": {},
   "source": [
    "Muchas de las medidas que hemos usado previamente no nos sirven mucho ya que department_id no es ordinal. Se puede ver que el department mas comun es el 11."
   ]
  },
  {
   "cell_type": "markdown",
   "metadata": {},
   "source": [
    "### Gráficos de departments"
   ]
  },
  {
   "cell_type": "code",
   "execution_count": null,
   "metadata": {
    "scrolled": false
   },
   "outputs": [],
   "source": [
    "#visualizando el department al cual pertenece cada producto con un bar chart\n",
    "bar(df_products,3,\"Frecuencia de Departments\",\"Departments\",\"Frecuencia\")"
   ]
  },
  {
   "cell_type": "code",
   "execution_count": null,
   "metadata": {},
   "outputs": [],
   "source": [
    "#averuguando que contiene cada department\n",
    "print(df_departments)"
   ]
  },
  {
   "cell_type": "markdown",
   "metadata": {},
   "source": [
    "Con el diagrama de barras podemos ver que el departamento con mas productos es \"personal care\" mientras que el que menos productos tiene es \"bulk\". "
   ]
  },
  {
   "cell_type": "markdown",
   "metadata": {},
   "source": [
    "### Gráficos de aisles"
   ]
  },
  {
   "cell_type": "code",
   "execution_count": null,
   "metadata": {
    "scrolled": false
   },
   "outputs": [],
   "source": [
    "#visualizando las aisles a las que pertenece cada producto con un bar chart\n",
    "bar(df_products,2,\"Frecuencia de Aisles\",\"Aisles\",\"Frecuencia\")"
   ]
  },
  {
   "cell_type": "markdown",
   "metadata": {},
   "source": [
    "Sabemos que el aisle 100 es el que más productos tiene, pero hay otro pico bastante grande, hagamos un acercamiento par averiguar bien cual es."
   ]
  },
  {
   "cell_type": "code",
   "execution_count": null,
   "metadata": {},
   "outputs": [],
   "source": [
    "#haciendo un grafiquito mas hecho zoom para analizar a mayor profundidad\n",
    "\n",
    "freq = df_products.iloc[:,2].value_counts()\n",
    "\n",
    "plt.bar(freq.index, freq.values, edgecolor='black')\n",
    "\n",
    "plt.title(\"Acercamiento de Frecuencia de Aisles\")\n",
    "plt.xlabel(\"Aisles\")\n",
    "plt.ylabel(\"Frecuencia\")\n",
    "plt.xlim(18,50)\n",
    "\n",
    "plt.show()"
   ]
  },
  {
   "cell_type": "code",
   "execution_count": null,
   "metadata": {
    "scrolled": true
   },
   "outputs": [],
   "source": [
    "#Viendo que contiene la segunda aisle mas comun\n",
    "print(df_aisles.iloc[44,:])\n",
    "cat = df_products.iloc[:,2].value_counts()\n",
    "cat = cat.sort_index()\n",
    "print(cat[45])\n",
    "print(cat[100])"
   ]
  },
  {
   "cell_type": "code",
   "execution_count": null,
   "metadata": {},
   "outputs": [],
   "source": [
    "#viendo que contiene el aisle con menos productos\n",
    "print(df_aisles.iloc[17,:])"
   ]
  },
  {
   "cell_type": "markdown",
   "metadata": {},
   "source": [
    "Podemos ver que sin tomar en cuenta al aisle \"missing\", \"candy chocolate\" es el aisle que contiene más productos. Contiene tan solo 12 productos menos que \"missing\", mientras que \"bulk dried fruits vegetable\" es el aisle con menos productos"
   ]
  },
  {
   "cell_type": "markdown",
   "metadata": {},
   "source": [
    "### Conclusión"
   ]
  },
  {
   "cell_type": "markdown",
   "metadata": {},
   "source": [
    "Cambiar el nombre de los productos con nombre nulo a algo como \"Sin Nombre\". No hay como eliminarlos ya que la gente los sigue comprando. Es sumamente interesante que ver que el aisle que mas productos tiene es el de \"missing\"."
   ]
  },
  {
   "cell_type": "markdown",
   "metadata": {},
   "source": [
    "## Conclusion general"
   ]
  },
  {
   "cell_type": "markdown",
   "metadata": {},
   "source": [
    "Todas las variables eran discretas. No hubieron muchos valores repetidos. Los valores nulos eran completamente aleatorios o seguían un patron resolvible. "
   ]
  },
  {
   "cell_type": "markdown",
   "metadata": {},
   "source": [
    "### Plan de transformación"
   ]
  },
  {
   "cell_type": "markdown",
   "metadata": {},
   "source": [
    "Para aisles,remover o actualizar el missing. Al no ser null, no parece que haya la necesidad para esto."
   ]
  },
  {
   "cell_type": "markdown",
   "metadata": {},
   "source": [
    "Lo mismo para departments"
   ]
  },
  {
   "cell_type": "markdown",
   "metadata": {},
   "source": [
    "Cambiar los null de instacart_orders a 0 ya que es su primera compra."
   ]
  },
  {
   "cell_type": "markdown",
   "metadata": {},
   "source": [
    "En df_order_products hay que eliminar las filas null ya que son aleatorias."
   ]
  },
  {
   "cell_type": "markdown",
   "metadata": {},
   "source": [
    "En products hay que cambiar el nombre de las columnas ausentes a \"Sin Nombre\""
   ]
  },
  {
   "cell_type": "markdown",
   "metadata": {},
   "source": [
    "### Transformaciones a fct y dim"
   ]
  },
  {
   "cell_type": "markdown",
   "metadata": {},
   "source": [
    "Tenemos que hacer merge de productos y sus aisles y departments."
   ]
  },
  {
   "cell_type": "code",
   "execution_count": null,
   "metadata": {},
   "outputs": [],
   "source": [
    "#creamos una version beta de la dimension final, aun nos faltan agregar ciertas columnas, pero \n",
    "#este es el primer paso, ya que como diamagre el desarrollo se me hace mas sencillo llegar al final\n",
    "df_dim_products_beta = pd.merge(df_products,df_aisles,on=\"aisle_id\",how = \"inner\")\n",
    "df_dim_products_beta = pd.merge(df_dim_products_beta,df_departments,on=\"department_id\",how = \"inner\")\n",
    "df_dim_products_beta.drop(df_dim_products_beta.columns[[2, 3]], axis=1, inplace=True)\n",
    "df_dim_products_beta.rename(columns={'product_id': 'dim_product_id'}, inplace=True)"
   ]
  },
  {
   "cell_type": "code",
   "execution_count": null,
   "metadata": {},
   "outputs": [],
   "source": [
    "#visualizando como estan yendo mis transformaciones\n",
    "print(df_dim_products_beta)"
   ]
  },
  {
   "cell_type": "code",
   "execution_count": null,
   "metadata": {},
   "outputs": [],
   "source": [
    "#haciendo el fct_products, es igual un paso antes de unir\n",
    "df_fct_products = df_order_products.copy()\n",
    "df_fct_products.rename(columns={'product_id': 'dim_product_id'}, inplace=True)\n",
    "df_fct_products.rename(columns={'order_id': 'fct_order_id'}, inplace=True)\n",
    "print(df_fct_products)"
   ]
  },
  {
   "cell_type": "code",
   "execution_count": null,
   "metadata": {},
   "outputs": [],
   "source": [
    "#haciendo y visualizando el dim_orders, antes de unir\n",
    "df_dim_orders = df_instacart_orders.copy()\n",
    "df_dim_orders['dim_order_id'] = range(1, len(df_dim_orders) + 1)\n",
    "df_dim_orders.rename(columns={'order_id': 'fct_order_id'}, inplace=True)\n",
    "df_dim_orders.drop(df_dim_orders.columns[[1,2, 5]], axis=1, inplace=True)\n",
    "df_dim_orders = df_dim_orders[[df_dim_orders.columns[-1]] + list(df_dim_orders.columns[:-1])]\n",
    "\n",
    "print(df_dim_orders)"
   ]
  },
  {
   "cell_type": "code",
   "execution_count": null,
   "metadata": {},
   "outputs": [],
   "source": [
    "#haciendo la version beta del fct orders ya que la tabla final se llamara fct orders, pero aun falta hacer merge\n",
    "df_fct_orders_beta = df_instacart_orders.copy()\n",
    "df_fct_orders_beta.rename(columns={'order_id': 'fct_order_id'}, inplace=True)\n",
    "df_fct_orders_beta.drop(df_fct_orders_beta.columns[[3,4]], axis=1, inplace=True)\n",
    "\n",
    "print(df_fct_orders_beta)"
   ]
  },
  {
   "cell_type": "code",
   "execution_count": null,
   "metadata": {
    "scrolled": false
   },
   "outputs": [],
   "source": [
    "#haciendo merge a mis tablas de fct para asi obtener el fct orders final\n",
    "df_fct_orders = pd.merge(df_fct_products,df_fct_orders_beta,on=\"fct_order_id\",how = \"inner\")\n",
    "print(df_fct_orders)"
   ]
  },
  {
   "cell_type": "code",
   "execution_count": null,
   "metadata": {
    "scrolled": false
   },
   "outputs": [],
   "source": [
    "#obteniendo el dim products final. Lo reordene para que sea mas sencillo visualizar si estaba bien o no\n",
    "df_dim_products_alfa = pd.merge(df_fct_products,df_dim_orders,on=\"fct_order_id\",how = \"inner\")\n",
    "df_dim_products = pd.merge(df_dim_products_beta,df_dim_products_alfa,on=\"dim_product_id\",how = \"inner\")\n",
    "df_dim_products = df_dim_products[list(df_dim_products.columns)[:1] + [list(df_dim_products.columns)[4]] + list(df_dim_products.columns)[1:4] + list(df_dim_products.columns)[5:]]\n",
    "#basicamente estas agarrando los nombres y poniendoles en orden, agarras los strings\n",
    "df_dim_products.drop(df_dim_products.columns[[5,6,7]], axis=1, inplace=True)\n",
    "\n",
    "df_dim_products"
   ]
  },
  {
   "cell_type": "code",
   "execution_count": null,
   "metadata": {},
   "outputs": [],
   "source": [
    "#una seccion final donde esta todo el proceso de ruptura de la normalizacin, esta la lleve a mi pipeline.\n",
    "\n",
    "df_dim_products_beta = pd.merge(df_products,df_aisles,on=\"aisle_id\",how = \"inner\")\n",
    "df_dim_products_beta = pd.merge(df_dim_products_beta,df_departments,on=\"department_id\",how = \"inner\")\n",
    "df_dim_products_beta.drop(df_dim_products_beta.columns[[2, 3]], axis=1, inplace=True)\n",
    "df_dim_products_beta.rename(columns={'product_id': 'dim_product_id'}, inplace=True)\n",
    "\n",
    "df_fct_products = df_order_products.copy()\n",
    "df_fct_products.rename(columns={'product_id': 'dim_product_id'}, inplace=True)\n",
    "df_fct_products.rename(columns={'order_id': 'fct_order_id'}, inplace=True)\n",
    "\n",
    "df_dim_orders = df_instacart_orders.copy()\n",
    "df_dim_orders['dim_order_id'] = range(1, len(df_dim_orders) + 1)\n",
    "df_dim_orders.rename(columns={'order_id': 'fct_order_id'}, inplace=True)\n",
    "df_dim_orders.drop(df_dim_orders.columns[[1,2, 5]], axis=1, inplace=True)\n",
    "df_dim_orders = df_dim_orders[[df_dim_orders.columns[-1]] + list(df_dim_orders.columns[:-1])]\n",
    "\n",
    "df_fct_orders_beta = df_instacart_orders.copy()\n",
    "df_fct_orders_beta.rename(columns={'order_id': 'fct_order_id'}, inplace=True)\n",
    "df_fct_orders_beta.drop(df_fct_orders_beta.columns[[3,4]], axis=1, inplace=True)\n",
    "\n",
    "df_fct_orders = pd.merge(df_fct_products,df_fct_orders_beta,on=\"fct_order_id\",how = \"inner\")\n",
    "\n",
    "df_dim_products_alfa = pd.merge(df_fct_products,df_dim_orders,on=\"fct_order_id\",how = \"inner\")\n",
    "df_dim_products = pd.merge(df_dim_products_beta,df_dim_products_alfa,on=\"dim_product_id\",how = \"inner\")\n",
    "df_dim_products = df_dim_products[list(df_dim_products.columns)[:1] + [list(df_dim_products.columns)[4]] + list(df_dim_products.columns)[1:4] + list(df_dim_products.columns)[5:]]\n",
    "df_dim_products.drop(df_dim_products.columns[[5,6,7]], axis=1, inplace=True)"
   ]
  },
  {
   "cell_type": "markdown",
   "metadata": {},
   "source": [
    "Así es como voy a realizar la ruptura de la normalización."
   ]
  }
 ],
 "metadata": {
  "kernelspec": {
   "display_name": "Python 3 (ipykernel)",
   "language": "python",
   "name": "python3"
  },
  "language_info": {
   "codemirror_mode": {
    "name": "ipython",
    "version": 3
   },
   "file_extension": ".py",
   "mimetype": "text/x-python",
   "name": "python",
   "nbconvert_exporter": "python",
   "pygments_lexer": "ipython3",
   "version": "3.10.8"
  }
 },
 "nbformat": 4,
 "nbformat_minor": 2
}
